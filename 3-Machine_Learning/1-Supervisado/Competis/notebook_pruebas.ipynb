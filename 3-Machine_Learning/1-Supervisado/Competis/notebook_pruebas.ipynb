{
 "cells": [
  {
   "cell_type": "markdown",
   "metadata": {},
   "source": [
    "# Notebook pruebas para submissions de competis"
   ]
  },
  {
   "cell_type": "markdown",
   "metadata": {},
   "source": [
    "En este notebook vamos a ver como arreglamos datos para subirlos a una competi de Kaggle, en este caso la competi de \"Precios de laptos\"."
   ]
  },
  {
   "cell_type": "code",
   "execution_count": 1,
   "metadata": {},
   "outputs": [],
   "source": [
    "#Importamos la librería, en este caso solo pandas para crear dataframes y .csvs\n",
    "import pandas as pd"
   ]
  },
  {
   "cell_type": "markdown",
   "metadata": {},
   "source": [
    "#### 1. **Leemos la data de train**"
   ]
  },
  {
   "cell_type": "code",
   "execution_count": 2,
   "metadata": {},
   "outputs": [],
   "source": [
    "train = pd.read_csv('train.csv')"
   ]
  },
  {
   "cell_type": "markdown",
   "metadata": {},
   "source": [
    "Con esta data, `train`, vamos a entrenar y testear nuestro modelo, creamos un `train_test_split` a partir de ella, parametrizamos, hacemos limpieza de datos, testeamos modelos y nos quedamos con nuestro mejor modelo, en este caso el que tenga un mejor *MAE*."
   ]
  },
  {
   "cell_type": "code",
   "execution_count": 18,
   "metadata": {},
   "outputs": [
    {
     "data": {
      "text/html": [
       "<div>\n",
       "<style scoped>\n",
       "    .dataframe tbody tr th:only-of-type {\n",
       "        vertical-align: middle;\n",
       "    }\n",
       "\n",
       "    .dataframe tbody tr th {\n",
       "        vertical-align: top;\n",
       "    }\n",
       "\n",
       "    .dataframe thead th {\n",
       "        text-align: right;\n",
       "    }\n",
       "</style>\n",
       "<table border=\"1\" class=\"dataframe\">\n",
       "  <thead>\n",
       "    <tr style=\"text-align: right;\">\n",
       "      <th></th>\n",
       "      <th>id</th>\n",
       "      <th>laptop_ID</th>\n",
       "      <th>Company</th>\n",
       "      <th>Product</th>\n",
       "      <th>TypeName</th>\n",
       "      <th>Inches</th>\n",
       "      <th>ScreenResolution</th>\n",
       "      <th>Cpu</th>\n",
       "      <th>Ram</th>\n",
       "      <th>Memory</th>\n",
       "      <th>Gpu</th>\n",
       "      <th>OpSys</th>\n",
       "      <th>Weight</th>\n",
       "      <th>Price_euros</th>\n",
       "    </tr>\n",
       "  </thead>\n",
       "  <tbody>\n",
       "    <tr>\n",
       "      <th>0</th>\n",
       "      <td>697</td>\n",
       "      <td>705</td>\n",
       "      <td>Asus</td>\n",
       "      <td>Chromebook Flip</td>\n",
       "      <td>2 in 1 Convertible</td>\n",
       "      <td>12.5</td>\n",
       "      <td>Full HD / Touchscreen 1920x1080</td>\n",
       "      <td>Intel Core M M3-6Y30 0.9GHz</td>\n",
       "      <td>4GB</td>\n",
       "      <td>64GB Flash Storage</td>\n",
       "      <td>Intel HD Graphics 515</td>\n",
       "      <td>Chrome OS</td>\n",
       "      <td>1.2kg</td>\n",
       "      <td>669.0</td>\n",
       "    </tr>\n",
       "    <tr>\n",
       "      <th>1</th>\n",
       "      <td>435</td>\n",
       "      <td>442</td>\n",
       "      <td>Asus</td>\n",
       "      <td>Rog Strix</td>\n",
       "      <td>Gaming</td>\n",
       "      <td>17.3</td>\n",
       "      <td>Full HD 1920x1080</td>\n",
       "      <td>AMD Ryzen 1600 3.2GHz</td>\n",
       "      <td>8GB</td>\n",
       "      <td>256GB SSD +  1TB HDD</td>\n",
       "      <td>AMD Radeon RX 580</td>\n",
       "      <td>Windows 10</td>\n",
       "      <td>3.2kg</td>\n",
       "      <td>1695.0</td>\n",
       "    </tr>\n",
       "    <tr>\n",
       "      <th>2</th>\n",
       "      <td>735</td>\n",
       "      <td>743</td>\n",
       "      <td>Lenovo</td>\n",
       "      <td>V310-15IKB (i7-7500U/4GB/1TB/FHD/W10)</td>\n",
       "      <td>Notebook</td>\n",
       "      <td>15.6</td>\n",
       "      <td>Full HD 1920x1080</td>\n",
       "      <td>Intel Core i7 7500U 2.7GHz</td>\n",
       "      <td>4GB</td>\n",
       "      <td>1TB HDD</td>\n",
       "      <td>Intel HD Graphics 620</td>\n",
       "      <td>Windows 10</td>\n",
       "      <td>1.85kg</td>\n",
       "      <td>779.0</td>\n",
       "    </tr>\n",
       "    <tr>\n",
       "      <th>3</th>\n",
       "      <td>864</td>\n",
       "      <td>875</td>\n",
       "      <td>Dell</td>\n",
       "      <td>XPS 13</td>\n",
       "      <td>Ultrabook</td>\n",
       "      <td>13.3</td>\n",
       "      <td>Quad HD+ / Touchscreen 3200x1800</td>\n",
       "      <td>Intel Core i7 7660U 2.5GHz</td>\n",
       "      <td>16GB</td>\n",
       "      <td>512GB SSD</td>\n",
       "      <td>Intel Iris Plus Graphics 640</td>\n",
       "      <td>Windows 10</td>\n",
       "      <td>1.29kg</td>\n",
       "      <td>2240.0</td>\n",
       "    </tr>\n",
       "    <tr>\n",
       "      <th>4</th>\n",
       "      <td>1176</td>\n",
       "      <td>1194</td>\n",
       "      <td>Lenovo</td>\n",
       "      <td>B51-80 (i7-6500U/4GB/1008GB/FHD/W7)</td>\n",
       "      <td>Notebook</td>\n",
       "      <td>15.6</td>\n",
       "      <td>Full HD 1920x1080</td>\n",
       "      <td>Intel Core i7 6500U 2.5GHz</td>\n",
       "      <td>4GB</td>\n",
       "      <td>1.0TB Hybrid</td>\n",
       "      <td>Intel HD Graphics 520</td>\n",
       "      <td>Windows 7</td>\n",
       "      <td>2.32kg</td>\n",
       "      <td>825.0</td>\n",
       "    </tr>\n",
       "  </tbody>\n",
       "</table>\n",
       "</div>"
      ],
      "text/plain": [
       "     id  laptop_ID Company                                Product  \\\n",
       "0   697        705    Asus                        Chromebook Flip   \n",
       "1   435        442    Asus                              Rog Strix   \n",
       "2   735        743  Lenovo  V310-15IKB (i7-7500U/4GB/1TB/FHD/W10)   \n",
       "3   864        875    Dell                                 XPS 13   \n",
       "4  1176       1194  Lenovo    B51-80 (i7-6500U/4GB/1008GB/FHD/W7)   \n",
       "\n",
       "             TypeName  Inches                  ScreenResolution  \\\n",
       "0  2 in 1 Convertible    12.5   Full HD / Touchscreen 1920x1080   \n",
       "1              Gaming    17.3                 Full HD 1920x1080   \n",
       "2            Notebook    15.6                 Full HD 1920x1080   \n",
       "3           Ultrabook    13.3  Quad HD+ / Touchscreen 3200x1800   \n",
       "4            Notebook    15.6                 Full HD 1920x1080   \n",
       "\n",
       "                           Cpu   Ram                Memory  \\\n",
       "0  Intel Core M M3-6Y30 0.9GHz   4GB    64GB Flash Storage   \n",
       "1        AMD Ryzen 1600 3.2GHz   8GB  256GB SSD +  1TB HDD   \n",
       "2   Intel Core i7 7500U 2.7GHz   4GB               1TB HDD   \n",
       "3   Intel Core i7 7660U 2.5GHz  16GB             512GB SSD   \n",
       "4   Intel Core i7 6500U 2.5GHz   4GB          1.0TB Hybrid   \n",
       "\n",
       "                            Gpu       OpSys  Weight  Price_euros  \n",
       "0         Intel HD Graphics 515   Chrome OS   1.2kg        669.0  \n",
       "1             AMD Radeon RX 580  Windows 10   3.2kg       1695.0  \n",
       "2         Intel HD Graphics 620  Windows 10  1.85kg        779.0  \n",
       "3  Intel Iris Plus Graphics 640  Windows 10  1.29kg       2240.0  \n",
       "4         Intel HD Graphics 520   Windows 7  2.32kg        825.0  "
      ]
     },
     "execution_count": 18,
     "metadata": {},
     "output_type": "execute_result"
    }
   ],
   "source": [
    "#Miramos las variables que tenemos en train, train posee X (features) e Y (target = 'Price_euros')\n",
    "train.head()"
   ]
  },
  {
   "cell_type": "markdown",
   "metadata": {},
   "source": [
    "#### 2. **Miramos test**"
   ]
  },
  {
   "cell_type": "code",
   "execution_count": 16,
   "metadata": {},
   "outputs": [],
   "source": [
    "test = pd.read_csv('test.csv')"
   ]
  },
  {
   "cell_type": "code",
   "execution_count": 17,
   "metadata": {},
   "outputs": [
    {
     "data": {
      "text/html": [
       "<div>\n",
       "<style scoped>\n",
       "    .dataframe tbody tr th:only-of-type {\n",
       "        vertical-align: middle;\n",
       "    }\n",
       "\n",
       "    .dataframe tbody tr th {\n",
       "        vertical-align: top;\n",
       "    }\n",
       "\n",
       "    .dataframe thead th {\n",
       "        text-align: right;\n",
       "    }\n",
       "</style>\n",
       "<table border=\"1\" class=\"dataframe\">\n",
       "  <thead>\n",
       "    <tr style=\"text-align: right;\">\n",
       "      <th></th>\n",
       "      <th>id</th>\n",
       "      <th>laptop_ID</th>\n",
       "      <th>Company</th>\n",
       "      <th>Product</th>\n",
       "      <th>TypeName</th>\n",
       "      <th>Inches</th>\n",
       "      <th>ScreenResolution</th>\n",
       "      <th>Cpu</th>\n",
       "      <th>Ram</th>\n",
       "      <th>Memory</th>\n",
       "      <th>Gpu</th>\n",
       "      <th>OpSys</th>\n",
       "      <th>Weight</th>\n",
       "    </tr>\n",
       "  </thead>\n",
       "  <tbody>\n",
       "    <tr>\n",
       "      <th>0</th>\n",
       "      <td>824</td>\n",
       "      <td>833</td>\n",
       "      <td>Lenovo</td>\n",
       "      <td>ThinkPad X1</td>\n",
       "      <td>Ultrabook</td>\n",
       "      <td>14.0</td>\n",
       "      <td>IPS Panel Full HD 1920x1080</td>\n",
       "      <td>Intel Core i5 7200U 2.5GHz</td>\n",
       "      <td>8GB</td>\n",
       "      <td>256GB Flash Storage</td>\n",
       "      <td>Intel HD Graphics 620</td>\n",
       "      <td>Windows 10</td>\n",
       "      <td>1.13kg</td>\n",
       "    </tr>\n",
       "    <tr>\n",
       "      <th>1</th>\n",
       "      <td>101</td>\n",
       "      <td>104</td>\n",
       "      <td>HP</td>\n",
       "      <td>15-bw000nv (E2-9000e/4GB/500GB/Radeon</td>\n",
       "      <td>Notebook</td>\n",
       "      <td>15.6</td>\n",
       "      <td>Full HD 1920x1080</td>\n",
       "      <td>AMD E-Series E2-9000e 1.5GHz</td>\n",
       "      <td>4GB</td>\n",
       "      <td>500GB HDD</td>\n",
       "      <td>AMD Radeon R2</td>\n",
       "      <td>Windows 10</td>\n",
       "      <td>2.1kg</td>\n",
       "    </tr>\n",
       "    <tr>\n",
       "      <th>2</th>\n",
       "      <td>1157</td>\n",
       "      <td>1175</td>\n",
       "      <td>Lenovo</td>\n",
       "      <td>ThinkPad T460s</td>\n",
       "      <td>Ultrabook</td>\n",
       "      <td>14.0</td>\n",
       "      <td>Full HD 1920x1080</td>\n",
       "      <td>Intel Core i7 6600U 2.6GHz</td>\n",
       "      <td>12GB</td>\n",
       "      <td>512GB SSD</td>\n",
       "      <td>Intel HD Graphics 520</td>\n",
       "      <td>Windows 7</td>\n",
       "      <td>1.4kg</td>\n",
       "    </tr>\n",
       "    <tr>\n",
       "      <th>3</th>\n",
       "      <td>940</td>\n",
       "      <td>954</td>\n",
       "      <td>HP</td>\n",
       "      <td>Omen 17-W006na</td>\n",
       "      <td>Gaming</td>\n",
       "      <td>17.3</td>\n",
       "      <td>IPS Panel Full HD 1920x1080</td>\n",
       "      <td>Intel Core i5 6300HQ 2.3GHz</td>\n",
       "      <td>8GB</td>\n",
       "      <td>128GB SSD +  1TB HDD</td>\n",
       "      <td>Nvidia GeForce GTX 965M</td>\n",
       "      <td>Windows 10</td>\n",
       "      <td>2.75kg</td>\n",
       "    </tr>\n",
       "    <tr>\n",
       "      <th>4</th>\n",
       "      <td>853</td>\n",
       "      <td>864</td>\n",
       "      <td>Lenovo</td>\n",
       "      <td>ThinkPad T470p</td>\n",
       "      <td>Ultrabook</td>\n",
       "      <td>14.0</td>\n",
       "      <td>IPS Panel Full HD 1920x1080</td>\n",
       "      <td>Intel Core i7 7700HQ 2.8GHz</td>\n",
       "      <td>8GB</td>\n",
       "      <td>256GB SSD</td>\n",
       "      <td>Nvidia GeForce GT 940MX</td>\n",
       "      <td>Windows 10</td>\n",
       "      <td>1.96kg</td>\n",
       "    </tr>\n",
       "  </tbody>\n",
       "</table>\n",
       "</div>"
      ],
      "text/plain": [
       "     id  laptop_ID Company                                Product   TypeName  \\\n",
       "0   824        833  Lenovo                            ThinkPad X1  Ultrabook   \n",
       "1   101        104      HP  15-bw000nv (E2-9000e/4GB/500GB/Radeon   Notebook   \n",
       "2  1157       1175  Lenovo                         ThinkPad T460s  Ultrabook   \n",
       "3   940        954      HP                         Omen 17-W006na     Gaming   \n",
       "4   853        864  Lenovo                         ThinkPad T470p  Ultrabook   \n",
       "\n",
       "   Inches             ScreenResolution                           Cpu   Ram  \\\n",
       "0    14.0  IPS Panel Full HD 1920x1080    Intel Core i5 7200U 2.5GHz   8GB   \n",
       "1    15.6            Full HD 1920x1080  AMD E-Series E2-9000e 1.5GHz   4GB   \n",
       "2    14.0            Full HD 1920x1080    Intel Core i7 6600U 2.6GHz  12GB   \n",
       "3    17.3  IPS Panel Full HD 1920x1080   Intel Core i5 6300HQ 2.3GHz   8GB   \n",
       "4    14.0  IPS Panel Full HD 1920x1080   Intel Core i7 7700HQ 2.8GHz   8GB   \n",
       "\n",
       "                 Memory                      Gpu       OpSys  Weight  \n",
       "0   256GB Flash Storage    Intel HD Graphics 620  Windows 10  1.13kg  \n",
       "1             500GB HDD            AMD Radeon R2  Windows 10   2.1kg  \n",
       "2             512GB SSD    Intel HD Graphics 520   Windows 7   1.4kg  \n",
       "3  128GB SSD +  1TB HDD  Nvidia GeForce GTX 965M  Windows 10  2.75kg  \n",
       "4             256GB SSD  Nvidia GeForce GT 940MX  Windows 10  1.96kg  "
      ]
     },
     "execution_count": 17,
     "metadata": {},
     "output_type": "execute_result"
    }
   ],
   "source": [
    "test.head()"
   ]
  },
  {
   "cell_type": "markdown",
   "metadata": {},
   "source": [
    "Con `test` es la data con la que vamos a crear nuestra submission, es decir, vamos a hacer un \"model.predict\" con el modelo que hayamos entrenado anteriormente a partir de la data de `train`. Observamos que `test` no tiene target, los valores de target reales los usa *Kaggle* para evaluar tu modelo, sería tu puntuación en la competi."
   ]
  },
  {
   "cell_type": "markdown",
   "metadata": {},
   "source": [
    "#### 3. **Creamos el submission**"
   ]
  },
  {
   "cell_type": "markdown",
   "metadata": {},
   "source": [
    "Crearemos un `submission` a partir de dos cosas, los *ids* que aparecen en `test` y las predicciones que haya obtenido con mi modelo haciendo `model.predict(test)`.\n",
    "<br>\n",
    "<br>\n",
    "Tener en cuenta que para poder hacer un predict en `test`, todas las transformaciones que haya realizado en `train` debo hacerlas también en `test`, si no, puede darme error por shapes diferentes o malas predicciones (Por ejemplo si entrené con data escalada y hago predicciones sin escalar `test`). Tener en cuenta también que el `submission` que hayas creado debe tener la misma estructura que `sample_submission`, en este caso una columna *'Id'* y una columna *'Price_euros'*"
   ]
  },
  {
   "cell_type": "code",
   "execution_count": 13,
   "metadata": {},
   "outputs": [],
   "source": [
    "#submission.to_csv('sample_submission_no_error.csv', index= False) index = False para no agregar una columna\n",
    "                                                                            #de indices de 0 a len(df)"
   ]
  },
  {
   "cell_type": "markdown",
   "metadata": {},
   "source": [
    "#### 4. **Enviar tu submission**\n",
    "\n",
    "Todo listo! Puedes enviar tu .csv a las submissions de la competi de *Kaggle*, si te da error, chequear que la estructura del .csv que hayas creado `(submission)` sea igual a la estructura del archivo de `sample_submission.csv`.\n",
    "El límite de submissions por día en esta competi es de 20."
   ]
  }
 ],
 "metadata": {
  "kernelspec": {
   "display_name": "Python 3",
   "language": "python",
   "name": "python3"
  },
  "language_info": {
   "codemirror_mode": {
    "name": "ipython",
    "version": 3
   },
   "file_extension": ".py",
   "mimetype": "text/x-python",
   "name": "python",
   "nbconvert_exporter": "python",
   "pygments_lexer": "ipython3",
   "version": "3.10.2"
  }
 },
 "nbformat": 4,
 "nbformat_minor": 2
}
