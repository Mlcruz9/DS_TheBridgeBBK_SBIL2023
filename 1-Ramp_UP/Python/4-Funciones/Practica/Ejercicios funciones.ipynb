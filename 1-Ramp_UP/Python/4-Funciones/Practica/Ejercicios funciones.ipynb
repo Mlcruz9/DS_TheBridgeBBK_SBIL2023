{
 "cells": [
  {
   "cell_type": "markdown",
   "metadata": {},
   "source": [
    "![imagen](./img/ejercicios.png)"
   ]
  },
  {
   "cell_type": "markdown",
   "metadata": {},
   "source": [
    "# Ejercicios funciones\n",
    "## Ejercicio 1\n",
    "Escribe una función que convierta números del 1 al 7 en nombres de los dias de la semana. La función constará de un único argumento numérico y una salida de tipo string"
   ]
  },
  {
   "cell_type": "code",
   "execution_count": 1,
   "metadata": {},
   "outputs": [
    {
     "data": {
      "text/plain": [
       "'Martes'"
      ]
     },
     "execution_count": 1,
     "metadata": {},
     "output_type": "execute_result"
    }
   ],
   "source": [
    "semana = [\"Lunes\", \"Martes\", \"Miércoles\", \"Jueves\", \"Viernes\", \"Sábado\", \"Domingo\"]\n",
    "numero = 2\n",
    "\n",
    "semana[numero - 1]"
   ]
  },
  {
   "cell_type": "code",
   "execution_count": 15,
   "metadata": {},
   "outputs": [],
   "source": [
    "def numero_dia(numero):\n",
    "    semana = [\"Lunes\", \"Martes\", \"Miércoles\", \"Jueves\", \"Viernes\", \"Sábado\", \"Domingo\"]\n",
    "\n",
    "    print(semana[numero - 1])"
   ]
  },
  {
   "cell_type": "code",
   "execution_count": 17,
   "metadata": {},
   "outputs": [
    {
     "name": "stdout",
     "output_type": "stream",
     "text": [
      "Lunes\n"
     ]
    }
   ],
   "source": [
    "lunes = numero_dia(1)"
   ]
  },
  {
   "cell_type": "code",
   "execution_count": 13,
   "metadata": {},
   "outputs": [
    {
     "name": "stdout",
     "output_type": "stream",
     "text": [
      "None\n"
     ]
    }
   ],
   "source": [
    "print(lunes)"
   ]
  },
  {
   "cell_type": "code",
   "execution_count": 6,
   "metadata": {},
   "outputs": [
    {
     "data": {
      "text/plain": [
       "'Lunes'"
      ]
     },
     "execution_count": 6,
     "metadata": {},
     "output_type": "execute_result"
    }
   ],
   "source": [
    "lunes"
   ]
  },
  {
   "cell_type": "markdown",
   "metadata": {},
   "source": [
    "## Ejercicio 2\n",
    "En el ejercicio 8 de flujos de control, creábamos una pirámide invertida de números desde el 5. Crea una función que replique el comportamiento de la pirámide, y utiliza un único parámetro de entrada de la función para determinar el número de filas de la pirámide."
   ]
  },
  {
   "cell_type": "code",
   "execution_count": 21,
   "metadata": {},
   "outputs": [
    {
     "name": "stdout",
     "output_type": "stream",
     "text": [
      "5 4 3 2 1\n",
      "4 3 2 1\n",
      "3 2 1\n",
      "2 1\n",
      "1\n"
     ]
    }
   ],
   "source": [
    "eje_2 = list(range(5, 0, -1))\n",
    "\n",
    "while len(eje_2) > 0:\n",
    "    print(*eje_2)\n",
    "    eje_2.pop(0)"
   ]
  },
  {
   "cell_type": "code",
   "execution_count": 22,
   "metadata": {},
   "outputs": [],
   "source": [
    "def piramide(numero):\n",
    "    eje_2 = list(range(numero, 0, -1))\n",
    "\n",
    "    while len(eje_2) > 0:\n",
    "        print(*eje_2)\n",
    "        eje_2.pop(0)"
   ]
  },
  {
   "cell_type": "code",
   "execution_count": 23,
   "metadata": {},
   "outputs": [
    {
     "name": "stdout",
     "output_type": "stream",
     "text": [
      "10 9 8 7 6 5 4 3 2 1\n",
      "9 8 7 6 5 4 3 2 1\n",
      "8 7 6 5 4 3 2 1\n",
      "7 6 5 4 3 2 1\n",
      "6 5 4 3 2 1\n",
      "5 4 3 2 1\n",
      "4 3 2 1\n",
      "3 2 1\n",
      "2 1\n",
      "1\n"
     ]
    }
   ],
   "source": [
    "piramide(10)"
   ]
  },
  {
   "cell_type": "markdown",
   "metadata": {},
   "source": [
    "## Ejercicio 3\n",
    "Escribe una función que compare dos números. La función tiene dos argumentos y hay tres salidas posibles: que sean iguales, que el primero sea  mayor que el segundo, o que el segundo sea mayor que el primero"
   ]
  },
  {
   "cell_type": "code",
   "execution_count": 24,
   "metadata": {},
   "outputs": [
    {
     "name": "stdout",
     "output_type": "stream",
     "text": [
      "5 es menor que 8\n"
     ]
    }
   ],
   "source": [
    "numero_1 = 5\n",
    "numero_2 = 8\n",
    "\n",
    "if numero_1 == numero_2:\n",
    "    print(f\"{numero_1} es igual que {numero_2}\")\n",
    "\n",
    "elif numero_1 > numero_2:\n",
    "    print(f'{numero_1} es mayor que {numero_2}')\n",
    "\n",
    "elif numero_1 < numero_2:\n",
    "    print(f'{numero_1} es menor que {numero_2}')"
   ]
  },
  {
   "cell_type": "code",
   "execution_count": 33,
   "metadata": {},
   "outputs": [],
   "source": [
    "def comparador_num(numero_1, numero_2):\n",
    "\n",
    "    try:\n",
    "        if numero_1 == numero_2:\n",
    "            print(f\"{numero_1} es igual que {numero_2}\")\n",
    "\n",
    "        elif numero_1 > numero_2:\n",
    "            print(f'{numero_1} es mayor que {numero_2}')\n",
    "\n",
    "        else: \n",
    "            print(f'{numero_1} es menor que {numero_2}')\n",
    "    \n",
    "    except:\n",
    "        print(\"Hola\")"
   ]
  },
  {
   "cell_type": "code",
   "execution_count": 34,
   "metadata": {},
   "outputs": [
    {
     "name": "stdout",
     "output_type": "stream",
     "text": [
      "Hola\n"
     ]
    }
   ],
   "source": [
    "comparador_num(\"Hola\", 8)"
   ]
  },
  {
   "cell_type": "code",
   "execution_count": 28,
   "metadata": {},
   "outputs": [
    {
     "name": "stdout",
     "output_type": "stream",
     "text": [
      "10 es menor que 20\n"
     ]
    }
   ],
   "source": [
    "comparador_num(10, 20)"
   ]
  },
  {
   "cell_type": "markdown",
   "metadata": {},
   "source": [
    "## Ejercicio 4\n",
    "Escribe una función que sea un contador de letras. En el primer argumento tienes que introducir un texto, y el segundo que sea una letra que contar. La función tiene que devolver un entero con el número de veces que aparece esa letra, tanto mayuscula, como minúscula"
   ]
  },
  {
   "cell_type": "code",
   "execution_count": 40,
   "metadata": {},
   "outputs": [
    {
     "name": "stdout",
     "output_type": "stream",
     "text": [
      "Hay 3 letras o en tu texto\n"
     ]
    }
   ],
   "source": [
    "texto = \"Hola mundoO\"\n",
    "letra = \"o\"\n",
    "counter = 0\n",
    "\n",
    "for i in texto.lower():\n",
    "    if i == letra.lower():\n",
    "        counter += 1\n",
    "\n",
    "print(f'Hay {counter} letras {letra} en tu texto')"
   ]
  },
  {
   "cell_type": "code",
   "execution_count": 43,
   "metadata": {},
   "outputs": [
    {
     "name": "stdout",
     "output_type": "stream",
     "text": [
      "Hay 3 letras o en tu texto, 2 minúsculas y 1 mayúsculas\n"
     ]
    }
   ],
   "source": [
    "texto = \"Hola mundoO\"\n",
    "letra = \"o\"\n",
    "counter_minus = 0\n",
    "counter_mayus = 0\n",
    "counter = 0\n",
    "\n",
    "for i in texto:\n",
    "    if i == letra.lower():\n",
    "        counter_minus += 1\n",
    "    elif i == letra.upper():\n",
    "        counter_mayus += 1\n",
    "    \n",
    "\n",
    "counter = counter_minus + counter_mayus\n",
    "\n",
    "print(f'Hay {counter} letras {letra} en tu texto, {counter_minus} minúsculas y {counter_mayus} mayúsculas')"
   ]
  },
  {
   "cell_type": "code",
   "execution_count": 44,
   "metadata": {},
   "outputs": [],
   "source": [
    "def cuenta_letras(texto, letra):\n",
    "    counter_minus = 0\n",
    "    counter_mayus = 0\n",
    "\n",
    "    for i in texto:\n",
    "        if i == letra.lower():\n",
    "            counter_minus += 1\n",
    "        elif i == letra.upper():\n",
    "            counter_mayus += 1\n",
    "    \n",
    "    counter = counter_minus + counter_mayus\n",
    "    print(f'Hay {counter} letras {letra} en tu texto, {counter_minus} minúsculas y {counter_mayus} mayúsculas')\n",
    "\n",
    "    return counter, counter_minus, counter_mayus"
   ]
  },
  {
   "cell_type": "code",
   "execution_count": 45,
   "metadata": {},
   "outputs": [
    {
     "name": "stdout",
     "output_type": "stream",
     "text": [
      "Hay 4 letras a en tu texto, 2 minúsculas y 2 mayúsculas\n"
     ]
    }
   ],
   "source": [
    "counter_1, counter_2, counter_3 = cuenta_letras(\"HolaaAA\", \"a\")"
   ]
  },
  {
   "cell_type": "code",
   "execution_count": 46,
   "metadata": {},
   "outputs": [
    {
     "data": {
      "text/plain": [
       "4"
      ]
     },
     "execution_count": 46,
     "metadata": {},
     "output_type": "execute_result"
    }
   ],
   "source": [
    "counter_1"
   ]
  },
  {
   "cell_type": "code",
   "execution_count": 39,
   "metadata": {},
   "outputs": [
    {
     "data": {
      "text/plain": [
       "3"
      ]
     },
     "execution_count": 39,
     "metadata": {},
     "output_type": "execute_result"
    }
   ],
   "source": [
    "texto = \"Hola mundoO\"\n",
    "letra = \"O\"\n",
    "\n",
    "texto.lower().count(letra.lower())"
   ]
  },
  {
   "cell_type": "markdown",
   "metadata": {},
   "source": [
    "## Ejercicio 5\n",
    "Escribe una función que tenga un único argumento, un string. La salida de la función tiene que ser un diccionario con el conteo de todas las letras de ese string, siendo la clave la letra y el valor el conteo."
   ]
  },
  {
   "cell_type": "code",
   "execution_count": 50,
   "metadata": {},
   "outputs": [
    {
     "name": "stdout",
     "output_type": "stream",
     "text": [
      "{'h': 1, 'o': 4, 'l': 1, 'a': 2, 'm': 1, 'u': 1, 'n': 1, 'd': 1}\n"
     ]
    }
   ],
   "source": [
    "texto = \"Holaa MundoOo\"\n",
    "dicc_letras = {}\n",
    "\n",
    "\n",
    "for i in texto.lower():\n",
    "    if i != \" \":\n",
    "        if i not in dicc_letras.keys():\n",
    "            dicc_letras[i] = 1\n",
    "        else:\n",
    "            dicc_letras[i] += 1\n",
    "    \n",
    "print(dicc_letras)\n"
   ]
  },
  {
   "cell_type": "code",
   "execution_count": 53,
   "metadata": {},
   "outputs": [],
   "source": [
    "def dicc_let(texto):\n",
    "    dicc_letras = {}\n",
    "\n",
    "    for i in texto.lower():\n",
    "        if i != \" \":\n",
    "            if i not in dicc_letras.keys():\n",
    "                dicc_letras[i] = 1\n",
    "            else:\n",
    "                dicc_letras[i] += 1\n",
    "    \n",
    "    return dicc_letras"
   ]
  },
  {
   "cell_type": "code",
   "execution_count": 51,
   "metadata": {},
   "outputs": [],
   "source": [
    "dicc_letras[\"Hola\"] = \"Adios\"\n"
   ]
  },
  {
   "cell_type": "code",
   "execution_count": 52,
   "metadata": {},
   "outputs": [
    {
     "data": {
      "text/plain": [
       "{'h': 1,\n",
       " 'o': 4,\n",
       " 'l': 1,\n",
       " 'a': 2,\n",
       " 'm': 1,\n",
       " 'u': 1,\n",
       " 'n': 1,\n",
       " 'd': 1,\n",
       " 'Hola': 'Adios'}"
      ]
     },
     "execution_count": 52,
     "metadata": {},
     "output_type": "execute_result"
    }
   ],
   "source": [
    "dicc_letras"
   ]
  },
  {
   "cell_type": "code",
   "execution_count": 56,
   "metadata": {},
   "outputs": [
    {
     "data": {
      "text/plain": [
       "{'h': 1, 'o': 1, 'l': 1, 'a': 6}"
      ]
     },
     "execution_count": 56,
     "metadata": {},
     "output_type": "execute_result"
    }
   ],
   "source": [
    "dicc_let(\"HolaaAAaa\")"
   ]
  },
  {
   "cell_type": "markdown",
   "metadata": {},
   "source": [
    "## Ejercicio 6\n",
    "Escribir una función que añada o elimine elementos en una lista. La función necesita los siguientes argumentos:\n",
    "* lista: la lista donde se añadirán o eliminarán los elementos\n",
    "* comando: \"add\" o \"remove\"\n",
    "* elemento: Por defecto es None.\n",
    "\n",
    "Tendrá como salida la lista"
   ]
  },
  {
   "cell_type": "code",
   "execution_count": 73,
   "metadata": {},
   "outputs": [
    {
     "name": "stdout",
     "output_type": "stream",
     "text": [
      "No existe elemento en la lista\n"
     ]
    }
   ],
   "source": [
    "lista = [\"Uno\", \"Dos\", \"Tres\"]\n",
    "comando = \"remove\"\n",
    "elemento = \"Cuatro\"\n",
    "\n",
    "if elemento != None:\n",
    "\n",
    "    if comando == \"add\":\n",
    "        lista.append(elemento)\n",
    "\n",
    "    elif comando == \"remove\":\n",
    "        try:\n",
    "            lista.remove(elemento)\n",
    "        except:\n",
    "            print(\"No existe elemento en la lista\")\n",
    "\n",
    "else:\n",
    "    lista"
   ]
  },
  {
   "cell_type": "code",
   "execution_count": 84,
   "metadata": {},
   "outputs": [],
   "source": [
    "def add_remove(lista, comando, elemento = None):\n",
    "    if elemento != None:\n",
    "        if comando == \"add\":\n",
    "            lista.append(elemento)\n",
    "            return lista\n",
    "\n",
    "        elif comando == \"remove\":\n",
    "            try:\n",
    "                lista.remove(elemento)\n",
    "                return lista\n",
    "            except:\n",
    "                print(\"No existe elemento en la lista\")\n",
    "    else:\n",
    "        return lista"
   ]
  },
  {
   "cell_type": "code",
   "execution_count": 85,
   "metadata": {},
   "outputs": [],
   "source": [
    "nueva_lista = add_remove([\"uno\", \"dos\", \"tres\", \"cuatro\"], \"remove\",\"cuatro\")"
   ]
  },
  {
   "cell_type": "code",
   "execution_count": 86,
   "metadata": {},
   "outputs": [
    {
     "data": {
      "text/plain": [
       "['uno', 'dos', 'tres']"
      ]
     },
     "execution_count": 86,
     "metadata": {},
     "output_type": "execute_result"
    }
   ],
   "source": [
    "nueva_lista"
   ]
  },
  {
   "cell_type": "markdown",
   "metadata": {},
   "source": [
    "## Ejercicio 7\n",
    "Crea una función que reciba un número arbitrario de palabras, y devuelva una frase completa, separando las palabras con espacios."
   ]
  },
  {
   "cell_type": "code",
   "execution_count": 90,
   "metadata": {},
   "outputs": [
    {
     "name": "stdout",
     "output_type": "stream",
     "text": [
      "Hola Como estas\n"
     ]
    }
   ],
   "source": [
    "lista_palabras = [\"Hola\", \"Como\", \"estas\"]\n",
    "palabra_concatenada = \"\"\n",
    "for i in lista_palabras:\n",
    "    palabra_concatenada += i + \" \"\n",
    "\n",
    "print(palabra_concatenada[:-1])"
   ]
  },
  {
   "cell_type": "code",
   "execution_count": 105,
   "metadata": {},
   "outputs": [
    {
     "data": {
      "text/plain": [
       "'lista Hola Como estas 3'"
      ]
     },
     "execution_count": 105,
     "metadata": {},
     "output_type": "execute_result"
    }
   ],
   "source": [
    "def concat_palabras(*args):\n",
    "    palabra_concatenada = \"\"\n",
    "    for i in args:\n",
    "        if type(i) == str:\n",
    "            palabra_concatenada += i + \" \"\n",
    "        elif type(i) == list:\n",
    "            i = \" \".join(i)\n",
    "            palabra_concatenada += i + \" \"\n",
    "        elif type(i) == int:\n",
    "            i = str(i)\n",
    "            palabra_concatenada += i + \" \"\n",
    "\n",
    "    \n",
    "    return palabra_concatenada[:-1]\n",
    "\n",
    "concat_palabras([\"lista\"], \"Hola\", \"Como\", \"estas\", 3)"
   ]
  },
  {
   "cell_type": "code",
   "execution_count": 97,
   "metadata": {},
   "outputs": [],
   "source": [
    "def concat_palabras(*args):\n",
    "    frase = \" \".join(args)\n",
    "    return frase"
   ]
  },
  {
   "cell_type": "code",
   "execution_count": 98,
   "metadata": {},
   "outputs": [
    {
     "ename": "TypeError",
     "evalue": "sequence item 0: expected str instance, list found",
     "output_type": "error",
     "traceback": [
      "\u001b[1;31m---------------------------------------------------------------------------\u001b[0m",
      "\u001b[1;31mTypeError\u001b[0m                                 Traceback (most recent call last)",
      "\u001b[1;32mc:\\Users\\misla\\Documents\\Bootcamp\\DS_TheBridgeBBK_SBIL2023\\1-Ramp_UP\\Python\\4-Funciones\\Practica\\Ejercicios funciones.ipynb Cell 39\u001b[0m line \u001b[0;36m1\n\u001b[1;32m----> <a href='vscode-notebook-cell:/c%3A/Users/misla/Documents/Bootcamp/DS_TheBridgeBBK_SBIL2023/1-Ramp_UP/Python/4-Funciones/Practica/Ejercicios%20funciones.ipynb#Y101sZmlsZQ%3D%3D?line=0'>1</a>\u001b[0m concat_palabras([\u001b[39m\"\u001b[39;49m\u001b[39mjoin\u001b[39;49m\u001b[39m\"\u001b[39;49m], \u001b[39m\"\u001b[39;49m\u001b[39mhola\u001b[39;49m\u001b[39m\"\u001b[39;49m, \u001b[39m\"\u001b[39;49m\u001b[39mcomo\u001b[39;49m\u001b[39m\"\u001b[39;49m, \u001b[39m\"\u001b[39;49m\u001b[39mestas\u001b[39;49m\u001b[39m\"\u001b[39;49m)\n",
      "\u001b[1;32mc:\\Users\\misla\\Documents\\Bootcamp\\DS_TheBridgeBBK_SBIL2023\\1-Ramp_UP\\Python\\4-Funciones\\Practica\\Ejercicios funciones.ipynb Cell 39\u001b[0m line \u001b[0;36m2\n\u001b[0;32m      <a href='vscode-notebook-cell:/c%3A/Users/misla/Documents/Bootcamp/DS_TheBridgeBBK_SBIL2023/1-Ramp_UP/Python/4-Funciones/Practica/Ejercicios%20funciones.ipynb#Y101sZmlsZQ%3D%3D?line=0'>1</a>\u001b[0m \u001b[39mdef\u001b[39;00m \u001b[39mconcat_palabras\u001b[39m(\u001b[39m*\u001b[39margs):\n\u001b[1;32m----> <a href='vscode-notebook-cell:/c%3A/Users/misla/Documents/Bootcamp/DS_TheBridgeBBK_SBIL2023/1-Ramp_UP/Python/4-Funciones/Practica/Ejercicios%20funciones.ipynb#Y101sZmlsZQ%3D%3D?line=1'>2</a>\u001b[0m     frase \u001b[39m=\u001b[39m \u001b[39m\"\u001b[39;49m\u001b[39m \u001b[39;49m\u001b[39m\"\u001b[39;49m\u001b[39m.\u001b[39;49mjoin(args)\n\u001b[0;32m      <a href='vscode-notebook-cell:/c%3A/Users/misla/Documents/Bootcamp/DS_TheBridgeBBK_SBIL2023/1-Ramp_UP/Python/4-Funciones/Practica/Ejercicios%20funciones.ipynb#Y101sZmlsZQ%3D%3D?line=2'>3</a>\u001b[0m     \u001b[39mreturn\u001b[39;00m frase\n",
      "\u001b[1;31mTypeError\u001b[0m: sequence item 0: expected str instance, list found"
     ]
    }
   ],
   "source": [
    "concat_palabras([\"join\"], \"hola\", \"como\", \"estas\")"
   ]
  },
  {
   "cell_type": "markdown",
   "metadata": {},
   "source": [
    "## Ejercicio 8\n",
    "Escribe un programa que obtenga el enésimo número de la [serie de Fibonacci](https://es.wikipedia.org/wiki/Sucesi%C3%B3n_de_Fibonacci). Tienes que crear una función recursiva con un único argumento.\n",
    "\n",
    "```Python\n",
    "fibonacci(2) = 1\n",
    "fibonacci(4) = 3\n",
    "fibonacci(5) = 5\n",
    "fibonacci(8) = 21\n",
    "```"
   ]
  },
  {
   "cell_type": "code",
   "execution_count": 106,
   "metadata": {},
   "outputs": [],
   "source": [
    "def fibbonacci(n):\n",
    "    if n == 0:\n",
    "        return 0\n",
    "    \n",
    "    if n == 1:\n",
    "        return 1\n",
    "    \n",
    "    else:\n",
    "        return fibbonacci(n -1) + fibbonacci(n -2)"
   ]
  },
  {
   "cell_type": "code",
   "execution_count": null,
   "metadata": {},
   "outputs": [],
   "source": [
    "fibbonacci(100)"
   ]
  },
  {
   "cell_type": "code",
   "execution_count": 5,
   "metadata": {},
   "outputs": [
    {
     "name": "stdout",
     "output_type": "stream",
     "text": [
      "1\n",
      "2\n",
      "3\n",
      "5\n",
      "8\n",
      "13\n",
      "21\n",
      "34\n",
      "55\n",
      "89\n",
      "144\n",
      "233\n",
      "377\n",
      "610\n",
      "987\n",
      "1597\n",
      "2584\n",
      "4181\n",
      "6765\n",
      "10946\n",
      "17711\n",
      "28657\n",
      "46368\n",
      "75025\n",
      "121393\n",
      "196418\n",
      "317811\n",
      "514229\n",
      "832040\n",
      "1346269\n",
      "2178309\n",
      "3524578\n",
      "5702887\n",
      "9227465\n",
      "14930352\n",
      "24157817\n",
      "39088169\n",
      "63245986\n",
      "102334155\n",
      "165580141\n",
      "267914296\n",
      "433494437\n",
      "701408733\n",
      "1134903170\n",
      "1836311903\n",
      "2971215073\n",
      "4807526976\n",
      "7778742049\n",
      "12586269025\n",
      "20365011074\n",
      "32951280099\n",
      "53316291173\n",
      "86267571272\n",
      "139583862445\n",
      "225851433717\n",
      "365435296162\n",
      "591286729879\n",
      "956722026041\n",
      "1548008755920\n",
      "2504730781961\n",
      "4052739537881\n",
      "6557470319842\n",
      "10610209857723\n",
      "17167680177565\n",
      "27777890035288\n",
      "44945570212853\n",
      "72723460248141\n",
      "117669030460994\n",
      "190392490709135\n",
      "308061521170129\n",
      "498454011879264\n",
      "806515533049393\n",
      "1304969544928657\n",
      "2111485077978050\n",
      "3416454622906707\n",
      "5527939700884757\n",
      "8944394323791464\n",
      "14472334024676221\n",
      "23416728348467685\n",
      "37889062373143906\n",
      "61305790721611591\n",
      "99194853094755497\n",
      "160500643816367088\n",
      "259695496911122585\n",
      "420196140727489673\n",
      "679891637638612258\n",
      "1100087778366101931\n",
      "1779979416004714189\n",
      "2880067194370816120\n",
      "4660046610375530309\n",
      "7540113804746346429\n",
      "12200160415121876738\n",
      "19740274219868223167\n",
      "31940434634990099905\n",
      "51680708854858323072\n",
      "83621143489848422977\n",
      "135301852344706746049\n",
      "218922995834555169026\n",
      "354224848179261915075\n",
      "573147844013817084101\n",
      "50\n"
     ]
    }
   ],
   "source": [
    "inicia_0 = 0\n",
    "inicia_1 = 1\n",
    "counter = 0\n",
    "\n",
    "for i in range(50):\n",
    "    inicia_0 += inicia_1\n",
    "    print(inicia_0)\n",
    "    inicia_1 += inicia_0\n",
    "    print(inicia_1)\n",
    "    counter += 1\n",
    "\n",
    "print(counter)"
   ]
  },
  {
   "cell_type": "markdown",
   "metadata": {},
   "source": [
    "## Ejercicio 9\n",
    "Define en una única celda las siguientes funciones:\n",
    "* Función que calcule el área de un cuadrado\n",
    "* Función que calcule el area de un triángulo\n",
    "* Función que calcule el área de un círculo\n",
    "\n",
    "En otra celda, calcular el area de:\n",
    "* Dos círculos de radio 10 + un triángulo de base 3 y altura 7\n",
    "* Un cuadrado de lado = 10 + 3 círculos (uno de radio = 4 y los otros dos de radio = 6) + 5 triángulos de base = 2 + altura = 4"
   ]
  },
  {
   "cell_type": "code",
   "execution_count": 6,
   "metadata": {},
   "outputs": [],
   "source": [
    "def area_cuadrado(b):\n",
    "    return b*b\n",
    "\n",
    "def area_triangulo(b, h):\n",
    "    return b*(h/2)\n",
    "\n",
    "def area_circulo(r):\n",
    "    pi = 3.1416\n",
    "    return pi*(r)**2"
   ]
  },
  {
   "cell_type": "code",
   "execution_count": 7,
   "metadata": {},
   "outputs": [
    {
     "name": "stdout",
     "output_type": "stream",
     "text": [
      "638.8199999999999\n"
     ]
    }
   ],
   "source": [
    "mult = 2 * (area_circulo(10)) + area_triangulo(3, 7)\n",
    "print(mult)"
   ]
  },
  {
   "cell_type": "code",
   "execution_count": 10,
   "metadata": {},
   "outputs": [
    {
     "name": "stdout",
     "output_type": "stream",
     "text": [
      "396.4608\n"
     ]
    }
   ],
   "source": [
    "mult_2 = area_cuadrado(10) + ((2 * area_circulo(6)) + area_circulo(4)) + 5 * (area_triangulo(2, 4))\n",
    "print(mult_2)"
   ]
  }
 ],
 "metadata": {
  "kernelspec": {
   "display_name": "Python 3",
   "language": "python",
   "name": "python3"
  },
  "language_info": {
   "codemirror_mode": {
    "name": "ipython",
    "version": 3
   },
   "file_extension": ".py",
   "mimetype": "text/x-python",
   "name": "python",
   "nbconvert_exporter": "python",
   "pygments_lexer": "ipython3",
   "version": "3.9.7"
  },
  "vscode": {
   "interpreter": {
    "hash": "1e989a6a87260c027f3014f78a3a3d191394072689c96a40223c8499353d25ee"
   }
  }
 },
 "nbformat": 4,
 "nbformat_minor": 4
}
