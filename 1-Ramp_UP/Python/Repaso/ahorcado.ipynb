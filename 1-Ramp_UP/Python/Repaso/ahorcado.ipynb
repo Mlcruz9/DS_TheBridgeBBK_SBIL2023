{
 "cells": [
  {
   "cell_type": "markdown",
   "metadata": {},
   "source": [
    "## Juego del Ahorcado\n",
    "El funcionamiento es que vaya mostrando por pantalla ```_ _ _ _ _``` las rayas bajas correspondientes al número de letras que tiene la palabra a adivinar. El usuario deberá insertar una letra y, si esa letra existe, se mostrará o mostrarán las letras acertadas ```S _ S _ _```. \n",
    "\n",
    "Si falla, se mostrará el número de errores que lleva y, si lleva 6 errores, entonces se mostrará \"Fin del juego\".\n",
    "Encapsúlalo en una función."
   ]
  },
  {
   "cell_type": "code",
   "execution_count": 2,
   "metadata": {},
   "outputs": [
    {
     "data": {
      "text/plain": [
       "True"
      ]
     },
     "execution_count": 2,
     "metadata": {},
     "output_type": "execute_result"
    }
   ],
   "source": [
    "\"b\" in \"bootcamp\""
   ]
  },
  {
   "cell_type": "code",
   "execution_count": 23,
   "metadata": {},
   "outputs": [
    {
     "name": "stdout",
     "output_type": "stream",
     "text": [
      "Has fallado, te quedan 5 vidas\n"
     ]
    }
   ],
   "source": [
    "palabra_adivinar = \"Bootcamp\"\n",
    "palabra_oculta = \"_\" * len(palabra_adivinar)\n",
    "palabra_oculta = list(palabra_oculta)\n",
    "vidas = 6\n",
    "\n",
    "palabra_adivinar = palabra_adivinar.lower()\n",
    "letra_usuario = \"x\"\n",
    "letra_usuario = letra_usuario.lower()\n",
    "\n",
    "if letra_usuario in palabra_adivinar:\n",
    "    for i in range(len(palabra_adivinar)):\n",
    "        if palabra_adivinar[i] == letra_usuario:\n",
    "            palabra_oculta[i] = letra_usuario\n",
    "\n",
    "else:\n",
    "    vidas -= 1\n",
    "    print(f'Has fallado, te quedan {vidas} vidas')"
   ]
  },
  {
   "cell_type": "code",
   "execution_count": 21,
   "metadata": {},
   "outputs": [
    {
     "name": "stdout",
     "output_type": "stream",
     "text": [
      "_ o o _ _ _ _ _\n"
     ]
    }
   ],
   "source": [
    "print(*palabra_oculta)"
   ]
  },
  {
   "cell_type": "code",
   "execution_count": 15,
   "metadata": {},
   "outputs": [
    {
     "data": {
      "text/plain": [
       "8"
      ]
     },
     "execution_count": 15,
     "metadata": {},
     "output_type": "execute_result"
    }
   ],
   "source": [
    "len(palabra_oculta)"
   ]
  },
  {
   "cell_type": "code",
   "execution_count": 7,
   "metadata": {},
   "outputs": [
    {
     "ename": "TypeError",
     "evalue": "'str' object does not support item assignment",
     "output_type": "error",
     "traceback": [
      "\u001b[1;31m---------------------------------------------------------------------------\u001b[0m",
      "\u001b[1;31mTypeError\u001b[0m                                 Traceback (most recent call last)",
      "\u001b[1;32mc:\\Users\\misla\\Documents\\Bootcamp\\DS_TheBridgeBBK_SBIL2023\\1-Ramp_UP\\Python\\Repaso\\ahorcado.ipynb Cell 5\u001b[0m line \u001b[0;36m1\n\u001b[1;32m----> <a href='vscode-notebook-cell:/c%3A/Users/misla/Documents/Bootcamp/DS_TheBridgeBBK_SBIL2023/1-Ramp_UP/Python/Repaso/ahorcado.ipynb#W5sZmlsZQ%3D%3D?line=0'>1</a>\u001b[0m letra_usuario[\u001b[39m0\u001b[39;49m] \u001b[39m=\u001b[39m \u001b[39m\"\u001b[39m\u001b[39mb\u001b[39m\u001b[39m\"\u001b[39m\n",
      "\u001b[1;31mTypeError\u001b[0m: 'str' object does not support item assignment"
     ]
    }
   ],
   "source": [
    "letra_usuario[0] = \"b\""
   ]
  },
  {
   "cell_type": "code",
   "execution_count": 2,
   "metadata": {},
   "outputs": [],
   "source": [
    "import time"
   ]
  },
  {
   "cell_type": "code",
   "execution_count": null,
   "metadata": {},
   "outputs": [],
   "source": []
  },
  {
   "cell_type": "code",
   "execution_count": null,
   "metadata": {},
   "outputs": [],
   "source": []
  },
  {
   "cell_type": "code",
   "execution_count": 5,
   "metadata": {},
   "outputs": [
    {
     "name": "stdout",
     "output_type": "stream",
     "text": [
      "Has acertado!\n",
      "_ _ _ _ _ a _ _\n",
      "Has acertado!\n",
      "_ _ _ _ _ a _ _\n",
      "Has acertado!\n",
      "_ _ _ _ c a _ _\n",
      "Has acertado!\n",
      "_ _ _ t c a _ _\n",
      "La letra  ya ha sido utilizada previamente\n",
      "La letra a ya ha sido utilizada previamente\n",
      "La letra  ya ha sido utilizada previamente\n"
     ]
    }
   ],
   "source": [
    "vidas = 6\n",
    "palabra_adivinar = \"Bootcamp\"\n",
    "palabra_oculta = \"_\" * len(palabra_adivinar)\n",
    "palabra_oculta = list(palabra_oculta)\n",
    "letras_usadas = []\n",
    "\n",
    "\n",
    "while True:\n",
    "    time.sleep(1)\n",
    "\n",
    "    letra_usuario = input(\"Introduce tu letra: \")\n",
    "    letra_usuario = letra_usuario.lower()\n",
    "    if letra_usuario in letras_usadas:\n",
    "        print(f\"La letra {letra_usuario} ya ha sido utilizada previamente\")\n",
    "    \n",
    "    else:\n",
    "        letras_usadas.append(letra_usuario.lower())\n",
    "        palabra_adivinar = palabra_adivinar.lower()\n",
    "        letra_usuario = letra_usuario.lower()\n",
    "\n",
    "        if letra_usuario in palabra_adivinar:\n",
    "            for i in range(len(palabra_adivinar)):\n",
    "                if palabra_adivinar[i] == letra_usuario:\n",
    "                    palabra_oculta[i] = letra_usuario\n",
    "\n",
    "            print(\"Has acertado!\")\n",
    "            print(*palabra_oculta)\n",
    "\n",
    "            if \"_\" not in palabra_oculta:\n",
    "                print(\"Has gando!\")\n",
    "                break\n",
    "\n",
    "        else:\n",
    "            vidas -= 1\n",
    "            print(f'Has fallado, te quedan {vidas} vidas')\n",
    "            print(*palabra_oculta)\n",
    "            if vidas == 0:\n",
    "                print(\"Has perdido!\")\n",
    "                break"
   ]
  },
  {
   "cell_type": "code",
   "execution_count": 3,
   "metadata": {},
   "outputs": [],
   "source": [
    "def ahorcado(vidas, palabra_adivinar):\n",
    "    palabra_oculta = \"_\" * len(palabra_adivinar)\n",
    "    palabra_oculta = list(palabra_oculta)\n",
    "    letras_usadas = []\n",
    "\n",
    "    while True:\n",
    "\n",
    "        letra_usuario = input(\"Introduce tu letra: \")\n",
    "        letra_usuario = letra_usuario.lower()\n",
    "        if letra_usuario in letras_usadas:\n",
    "            print(f\"La letra {letra_usuario} ya ha sido utilizada previamente\")\n",
    "        \n",
    "        else:\n",
    "            letras_usadas.append(letra_usuario.lower())\n",
    "            palabra_adivinar = palabra_adivinar.lower()\n",
    "            letra_usuario = letra_usuario.lower()\n",
    "\n",
    "            if letra_usuario in palabra_adivinar:\n",
    "                for i in range(len(palabra_adivinar)):\n",
    "                    if palabra_adivinar[i] == letra_usuario:\n",
    "                        palabra_oculta[i] = letra_usuario\n",
    "\n",
    "                print(\"Has acertado!\")\n",
    "                print(*palabra_oculta)\n",
    "\n",
    "                if \"_\" not in palabra_oculta:\n",
    "                    print(\"Has ganado!\")\n",
    "                    break\n",
    "\n",
    "            else:\n",
    "                vidas -= 1\n",
    "                print(f'Has fallado, te quedan {vidas} vidas')\n",
    "                print(*palabra_oculta)\n",
    "                if vidas == 0:\n",
    "                    print(\"Has perdido!\")\n",
    "                    break"
   ]
  },
  {
   "cell_type": "code",
   "execution_count": null,
   "metadata": {},
   "outputs": [],
   "source": [
    "ahorcado()"
   ]
  }
 ],
 "metadata": {
  "kernelspec": {
   "display_name": "Python 3",
   "language": "python",
   "name": "python3"
  },
  "language_info": {
   "codemirror_mode": {
    "name": "ipython",
    "version": 3
   },
   "file_extension": ".py",
   "mimetype": "text/x-python",
   "name": "python",
   "nbconvert_exporter": "python",
   "pygments_lexer": "ipython3",
   "version": "3.9.7"
  },
  "orig_nbformat": 4,
  "vscode": {
   "interpreter": {
    "hash": "1e989a6a87260c027f3014f78a3a3d191394072689c96a40223c8499353d25ee"
   }
  }
 },
 "nbformat": 4,
 "nbformat_minor": 2
}
