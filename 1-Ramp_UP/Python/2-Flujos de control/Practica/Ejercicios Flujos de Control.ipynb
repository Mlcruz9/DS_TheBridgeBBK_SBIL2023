{
 "cells": [
  {
   "cell_type": "markdown",
   "metadata": {},
   "source": [
    "![imagen](./img/ejercicios.png)"
   ]
  },
  {
   "cell_type": "markdown",
   "metadata": {},
   "source": [
    "# Ejercicios Flujos de control"
   ]
  },
  {
   "cell_type": "markdown",
   "metadata": {},
   "source": [
    "## Ejercicio 1\n",
    "Declara una variable numérica que será una hora cualquiera del día. Implementa mediante sentencias `if/elif/else` la siguiente casuística:\n",
    "\n",
    "* Si es entre las 0 y las 8, print \"Durmiendo\"\n",
    "* Si es entre las 9 y las 18, print \"Trabajando\"\n",
    "* Si es entre las 19 y las 21, print \"Clase\"\n",
    "* Si es entre las 22 y las 24, print \"Descanso\"\n",
    "* En cualquier otro caso, print \"Transporte o error\""
   ]
  },
  {
   "cell_type": "code",
   "execution_count": 1,
   "metadata": {},
   "outputs": [],
   "source": [
    "import datetime"
   ]
  },
  {
   "cell_type": "code",
   "execution_count": 5,
   "metadata": {},
   "outputs": [
    {
     "ename": "ValueError",
     "evalue": "minute must be in 0..59",
     "output_type": "error",
     "traceback": [
      "\u001b[1;31m---------------------------------------------------------------------------\u001b[0m",
      "\u001b[1;31mValueError\u001b[0m                                Traceback (most recent call last)",
      "\u001b[1;32mc:\\Users\\misla\\Documents\\Bootcamp\\DS_TheBridgeBBK_SBIL2023\\1-Ramp_UP\\Python\\2-Flujos de control\\Practica\\Ejercicios Flujos de Control.ipynb Cell 5\u001b[0m line \u001b[0;36m1\n\u001b[1;32m----> <a href='vscode-notebook-cell:/c%3A/Users/misla/Documents/Bootcamp/DS_TheBridgeBBK_SBIL2023/1-Ramp_UP/Python/2-Flujos%20de%20control/Practica/Ejercicios%20Flujos%20de%20Control.ipynb#X31sZmlsZQ%3D%3D?line=0'>1</a>\u001b[0m datetime\u001b[39m.\u001b[39;49mtime(\u001b[39m23\u001b[39;49m, \u001b[39m60\u001b[39;49m)\n",
      "\u001b[1;31mValueError\u001b[0m: minute must be in 0..59"
     ]
    }
   ],
   "source": [
    "datetime.date()"
   ]
  },
  {
   "cell_type": "code",
   "execution_count": null,
   "metadata": {},
   "outputs": [],
   "source": [
    "hora = 13\n",
    "\n",
    "if (hora >= 0) and (hora <= 8):\n",
    "    print(\"Durmiendo\")\n",
    "\n",
    "elif (hora >= 9) and (hora <= 18):\n",
    "    print(\"Trabajando\")\n",
    "\n",
    "elif (hora >= 19) and (hora <= 21):\n",
    "    print(\"Clase\")\n",
    "\n",
    "elif (hora >= 22) and (hora < 24):\n",
    "    print(\"Descanso\")\n",
    "\n",
    "else:\n",
    "    print(\"Transporte o error.\")"
   ]
  },
  {
   "cell_type": "code",
   "execution_count": null,
   "metadata": {},
   "outputs": [],
   "source": [
    "#Otra forma\n",
    "\n",
    "# hora = float(input(\"Introduce una hora: \"))\n",
    "\n",
    "# if 0 <= hora <= 8:\n",
    "#     print(\"Durmiendo\")\n",
    "# elif 9 <= hora <= 18:\n",
    "#     print(\"Trabajando\")\n",
    "# elif 19 <= hora <= 21:\n",
    "#     print(\"Clase\")\n",
    "# elif 22 <= hora < 24:\n",
    "#     print(\"Descanso\")\n",
    "# else:\n",
    "#     print(\"Transporte o error\")"
   ]
  },
  {
   "cell_type": "markdown",
   "metadata": {},
   "source": [
    "## Ejercicio 2\n",
    "En este ejercicio vamos a implementar un calculador de precios de casas muy sencillo. Tenemos las siguientes variables:\n",
    "\n",
    "> superficie\n",
    ">\n",
    "> distrito\n",
    "\n",
    "Implementa mediante sentencias `if/elif/else` la siguiente casuística:\n",
    "\n",
    "1. Si el distrito es \"Moncloa\" o \"Centro\", y además la superficie es superior a 100 metros cuadrados, el precio de la casa es de 1000\n",
    "2. Si el distrito es \"Salamanca\", y además la superficie de la casa es al menos de 150 metros, el precio de la casa es de 1500\n",
    "3. Si el distrito no es \"Retiro\" y la superficie está entre 60 y 80 metros, el precio es de 600\n",
    "4. En cualquier otro caso, el precio será de 0"
   ]
  },
  {
   "cell_type": "code",
   "execution_count": 7,
   "metadata": {},
   "outputs": [
    {
     "name": "stdout",
     "output_type": "stream",
     "text": [
      "El precio de la casa es de 1500\n"
     ]
    }
   ],
   "source": [
    "superficie = 150\n",
    "distrito = \"Salamanca\"\n",
    "cond_1 = (distrito == \"Salamanca\") and (superficie >= 150)\n",
    "\n",
    "if ((distrito == \"Moncloa\") or (distrito == \"Centro\")) and superficie > 100:\n",
    "    print(\"El precio de la casa es de 1000\")\n",
    "\n",
    "elif cond_1:\n",
    "    print(\"El precio de la casa es de 1500\")\n",
    "\n",
    "elif (distrito != \"Retiro\") and ((superficie >= 60) and (superficie <= 80)):\n",
    "    print(\"El precio es de 600\")\n",
    "\n",
    "else:\n",
    "    print(\"El precio es de 0\")\n",
    "\n"
   ]
  },
  {
   "cell_type": "code",
   "execution_count": null,
   "metadata": {},
   "outputs": [],
   "source": [
    "# mi_Distrito = str(input (\"introduce distrito: ...\"))\n",
    "# print(mi_Distrito)\n",
    "# Distrito_list = [\"moncloa\", \"centro\", \"salamanca\", \"retiro\"] \n",
    "# metros_casa = float (input(\"introduce metros cuadrados: ...\"))\n",
    "# print (metros_casa)\n",
    "# #bucle\n",
    "# for elemento in Distrito_list: \n",
    "#     print(\"Calculando...\")\n",
    "#     if type(metros_casa > 100) and (Distrito_list == \"moncloa\") or (Distrito_list == \"Centro\"):\n",
    "#         print(\"el precio de\", elemento, \"es 1000\")\n",
    "#     elif type(metros_casa > 150) and ( Distrito_list == \"salamanca\") :\n",
    "#         print(\"el precio de\", elemento, \"es 1500\")\n",
    "#     elif type(metros_casa == 60) and (metros_casa < 80) and ( Distrito_list != \"retiro\") :\n",
    "#         print(\"el precio de\", elemento, \"es 600\")\n",
    "# else:\n",
    "#     print(\"el precio es cero \")"
   ]
  },
  {
   "cell_type": "markdown",
   "metadata": {},
   "source": [
    "## Ejercicio 3\n",
    "En este ejercicio vamos a realizar un programa muy parecido. Para este caso queremos que se cumplan las siguientes condiciones:\n",
    "\n",
    "1. Primero se compruebe si el distrito es \"Retiro\". Si es asi, que imprima \"Distrito Retiro\", y si no, \"Otro distrito\"\n",
    "2. Si el distrito es \"Retiro\", comprueba si la superficie es mayor de 100 metros cuadrados. En tal caso, que imprima un precio de 1000, y si no, de 500.\n",
    "\n",
    "Hay que usar `ifs` anidados"
   ]
  },
  {
   "cell_type": "code",
   "execution_count": 12,
   "metadata": {},
   "outputs": [
    {
     "name": "stdout",
     "output_type": "stream",
     "text": [
      "Distrito Retiro\n",
      "El precio es de 500\n"
     ]
    }
   ],
   "source": [
    "superficie = 100\n",
    "distrito = \"Retiro\"\n",
    "\n",
    "if distrito == \"Retiro\":\n",
    "    print(\"Distrito Retiro\")\n",
    "\n",
    "    if superficie > 100:\n",
    "        print(\"El precio es de 1000\")\n",
    "    \n",
    "    else:\n",
    "        print(\"El precio es de 500\")\n",
    "\n",
    "else:\n",
    "    print(\"Otro distrito\")\n"
   ]
  },
  {
   "cell_type": "markdown",
   "metadata": {},
   "source": [
    "## Ejercicio 4\n",
    "Escribe un programa que tenga dos variables: un numero, y una lista numérica. El programa debe recorrer la lista e imprimir por pantalla cada elemento de la lista multiplicado por el número"
   ]
  },
  {
   "cell_type": "code",
   "execution_count": 13,
   "metadata": {},
   "outputs": [
    {
     "name": "stdout",
     "output_type": "stream",
     "text": [
      "15\n",
      "30\n",
      "45\n",
      "60\n",
      "75\n"
     ]
    }
   ],
   "source": [
    "numero_input = 15\n",
    "lista_num = [1, 2, 3, 4, 5]\n",
    "\n",
    "for numero in lista_num:\n",
    "    print(numero_input * numero)"
   ]
  },
  {
   "cell_type": "markdown",
   "metadata": {},
   "source": [
    "## Ejercicio 5\n",
    "Imprime por pantalla cada número del -10 al -1. En ese orden. Consulta [la documentación](https://www.w3schools.com/python/ref_func_range.asp) de `range`"
   ]
  },
  {
   "cell_type": "code",
   "execution_count": 21,
   "metadata": {},
   "outputs": [
    {
     "data": {
      "text/plain": [
       "[-10, -9, -8, -7, -6, -5, -4, -3, -2, -1]"
      ]
     },
     "execution_count": 21,
     "metadata": {},
     "output_type": "execute_result"
    }
   ],
   "source": [
    "list(range(-10, 0))"
   ]
  },
  {
   "cell_type": "code",
   "execution_count": 24,
   "metadata": {},
   "outputs": [
    {
     "name": "stdout",
     "output_type": "stream",
     "text": [
      "-10\n",
      "-9\n",
      "-8\n",
      "-7\n",
      "-6\n",
      "-5\n",
      "-4\n",
      "-3\n",
      "-2\n",
      "-1\n"
     ]
    }
   ],
   "source": [
    "for i in list(range(-10, 0)):\n",
    "    print(i)"
   ]
  },
  {
   "cell_type": "markdown",
   "metadata": {},
   "source": [
    "## Ejercicio 6\n",
    "Dada la siguiente lista:\n",
    "\n",
    "> list1 = [12, 15, 32, 42, 55, 75, 122, 132, 150, 180, 200]\n",
    "\n",
    "Implementa un programa que los recorra e imprima por pantalla todos los divisibles por 5. Si nos encontramos con alguno que sea mayor que 150, detener el bucle."
   ]
  },
  {
   "cell_type": "code",
   "execution_count": 29,
   "metadata": {},
   "outputs": [
    {
     "name": "stdout",
     "output_type": "stream",
     "text": [
      "15\n",
      "55\n",
      "75\n",
      "150\n"
     ]
    }
   ],
   "source": [
    "list1 = [12, 15, 32, 42, 55, 75, 122, 132, 150, 180, 200]\n",
    "\n",
    "for i in list1:\n",
    "    if i > 150:\n",
    "        break\n",
    "\n",
    "    if i % 5 == 0:\n",
    "        print(i)\n"
   ]
  },
  {
   "cell_type": "code",
   "execution_count": 31,
   "metadata": {},
   "outputs": [
    {
     "name": "stdout",
     "output_type": "stream",
     "text": [
      "15\n",
      "55\n",
      "75\n",
      "150\n"
     ]
    }
   ],
   "source": [
    "for num in list1:\n",
    "    if num % 5 == 0:\n",
    "        print(num)\n",
    "        if num >= 150: \n",
    "            break"
   ]
  },
  {
   "cell_type": "markdown",
   "metadata": {},
   "source": [
    "## Ejercicio 7\n",
    "Escribe un programa en Python que imprima por pantalla todos los números divisibles por 5 y divisibles por 7, dentro del rango de valores (150, 350)."
   ]
  },
  {
   "cell_type": "code",
   "execution_count": 35,
   "metadata": {},
   "outputs": [
    {
     "name": "stdout",
     "output_type": "stream",
     "text": [
      "175\n",
      "210\n",
      "245\n",
      "280\n",
      "315\n",
      "350\n"
     ]
    }
   ],
   "source": [
    "for i in range(150, 351):\n",
    "    if (i % 5 == 0) and (i % 7 == 0):\n",
    "        print(i)"
   ]
  },
  {
   "cell_type": "markdown",
   "metadata": {},
   "source": [
    "## Ejercicio 8\n",
    "Implementa un programa que imprima por pantalla el siguiente patrón\n",
    "\n",
    "5 4 3 2 1 \n",
    "\n",
    "4 3 2 1 \n",
    "\n",
    "3 2 1 \n",
    "\n",
    "2 1 \n",
    "\n",
    "1\n",
    "\n",
    "NOTA: NO hay lineas en blanco entre una línea y otra."
   ]
  },
  {
   "cell_type": "code",
   "execution_count": 84,
   "metadata": {},
   "outputs": [
    {
     "name": "stdout",
     "output_type": "stream",
     "text": [
      "[5, 4, 3, 2, 1]\n"
     ]
    }
   ],
   "source": [
    "ej_8 = list(range(5, 0, -1))\n",
    "print(ej_8)"
   ]
  },
  {
   "cell_type": "code",
   "execution_count": 81,
   "metadata": {},
   "outputs": [],
   "source": [
    "import time"
   ]
  },
  {
   "cell_type": "code",
   "execution_count": 82,
   "metadata": {},
   "outputs": [
    {
     "name": "stdout",
     "output_type": "stream",
     "text": [
      "5 4 3 2 1\n",
      "4 3 2 1\n",
      "3 2 1\n",
      "2 1\n",
      "1\n"
     ]
    }
   ],
   "source": [
    "while len(ej_8) > 0:\n",
    "    print(*ej_8)\n",
    "    ej_8.pop(0)\n",
    "    time.sleep(1)"
   ]
  },
  {
   "cell_type": "code",
   "execution_count": 51,
   "metadata": {},
   "outputs": [
    {
     "name": "stdout",
     "output_type": "stream",
     "text": [
      "5 4 3 2 1\n",
      "4 3 2 1\n",
      "3 2 1\n",
      "2 1\n",
      "1\n"
     ]
    }
   ],
   "source": [
    "while len(ej_8) > 0:\n",
    "    print(*ej_8)\n",
    "    ej_8.remove(ej_8[0])\n",
    "    time.sleep(1)"
   ]
  },
  {
   "cell_type": "code",
   "execution_count": 59,
   "metadata": {},
   "outputs": [
    {
     "name": "stdout",
     "output_type": "stream",
     "text": [
      "[5, 4, 3, 2, 1]\n",
      "[4, 3, 2, 1]\n",
      "[3, 2, 1]\n",
      "[2, 1]\n",
      "[1]\n"
     ]
    }
   ],
   "source": [
    "for i in ej_8.copy():\n",
    "    print(ej_8)\n",
    "    ej_8.pop(0)"
   ]
  },
  {
   "cell_type": "code",
   "execution_count": 79,
   "metadata": {},
   "outputs": [
    {
     "data": {
      "text/plain": [
       "[]"
      ]
     },
     "execution_count": 79,
     "metadata": {},
     "output_type": "execute_result"
    }
   ],
   "source": [
    "ej_8"
   ]
  },
  {
   "cell_type": "code",
   "execution_count": 78,
   "metadata": {},
   "outputs": [],
   "source": [
    "ej_8 = ej_8[1:]"
   ]
  },
  {
   "cell_type": "code",
   "execution_count": 65,
   "metadata": {},
   "outputs": [
    {
     "data": {
      "text/plain": [
       "[4, 3, 2, 1]"
      ]
     },
     "execution_count": 65,
     "metadata": {},
     "output_type": "execute_result"
    }
   ],
   "source": [
    "ej_8 = ej_8[1:]"
   ]
  },
  {
   "cell_type": "code",
   "execution_count": 62,
   "metadata": {},
   "outputs": [
    {
     "name": "stdout",
     "output_type": "stream",
     "text": [
      "5 4 3 2 1\n",
      "4 3 2 1\n",
      "3 2 1\n",
      "2 1\n",
      "1\n"
     ]
    }
   ],
   "source": [
    "while True:\n",
    "    if len(ej_8) == 0:\n",
    "        break\n",
    "    else:\n",
    "        print(*ej_8)\n",
    "        ej_8 = ej_8[1:]"
   ]
  },
  {
   "cell_type": "code",
   "execution_count": 90,
   "metadata": {},
   "outputs": [
    {
     "name": "stdout",
     "output_type": "stream",
     "text": [
      "5 4 3 2 1 \n",
      "\n",
      "4 3 2 1 \n",
      "\n",
      "3 2 1 \n",
      "\n",
      "2 1 \n",
      "\n",
      "1 \n",
      "\n"
     ]
    }
   ],
   "source": [
    "ej_8 = list(range(5, 0, -1))\n",
    "\n",
    "for i in ej_8:\n",
    "    for j in range(i, 0, -1):\n",
    "        print(j, end= \" \")\n",
    "    print(\"\\n\")"
   ]
  },
  {
   "cell_type": "code",
   "execution_count": 91,
   "metadata": {},
   "outputs": [
    {
     "name": "stdout",
     "output_type": "stream",
     "text": [
      "0 0\n",
      "0 1\n",
      "0 2\n",
      "1 0\n",
      "1 1\n",
      "1 2\n",
      "2 0\n",
      "2 1\n",
      "2 2\n"
     ]
    }
   ],
   "source": [
    "x = [0, 1, 2]\n",
    "y = [0, 1, 2]\n",
    "\n",
    "for i in x:\n",
    "    for j in y:\n",
    "        print(i, j)\n",
    "        time.sleep(1)"
   ]
  },
  {
   "cell_type": "markdown",
   "metadata": {},
   "source": [
    "## Ejercicio 9\n",
    "En este ejercicio vamos a crear un pequeño juego. Se trata de intentar adivinar un numero del 1 al 5. Tenemos dos intentos para acertar. Pasos a seguir:\n",
    "\n",
    "1. Ya viene implementado con la librería `random` cómo obtener un número aleatorio del 1 al 5\n",
    "2. Tendrás que declarar en una variable el numero de vidas, y mediante un bucle while, comprobar que todavia quedan vidas.\n",
    "3. Dentro del bucle, obtener el valor del usuario y comprobar si es ese el numero a adivinar. Si no, actualizar las vidas.\n",
    "4. Si acertamos, salimos del bucle e imprimimos por pantalla \"You win\". Y si perdemos también salimos del bucle, pero en este caso imprimimos por pantalla \"You lose\".\n",
    "\n",
    "TIP: te puede resultar útil usar la sentencia `else` cuando acabe el bucle `while`. Lo que haya dentro de ese `else` se ejecutará una vez acabe la ejecución del `while`. Lo podrás usar para cuando pierdas."
   ]
  },
  {
   "cell_type": "code",
   "execution_count": 92,
   "metadata": {},
   "outputs": [],
   "source": [
    "import random"
   ]
  },
  {
   "cell_type": "code",
   "execution_count": 124,
   "metadata": {},
   "outputs": [
    {
     "name": "stdout",
     "output_type": "stream",
     "text": [
      "4\n"
     ]
    }
   ],
   "source": [
    "numero_random = random.randint(1, 5)\n",
    "print(numero_random)\n",
    "random.seed(0)"
   ]
  },
  {
   "cell_type": "code",
   "execution_count": 141,
   "metadata": {},
   "outputs": [],
   "source": [
    "vidas = 5"
   ]
  },
  {
   "cell_type": "code",
   "execution_count": 143,
   "metadata": {},
   "outputs": [
    {
     "name": "stdout",
     "output_type": "stream",
     "text": [
      "El número es incorrecto!, intenta de nuevo.\n",
      "El número es incorrecto!, intenta de nuevo.\n",
      "El número es incorrecto!, intenta de nuevo.\n",
      "El número es incorrecto!, intenta de nuevo.\n",
      "Has perdido!\n"
     ]
    }
   ],
   "source": [
    "#\"Has perdido\" dentro del bucle\n",
    "while vidas > 0:\n",
    "    usuario = int(input(\"Introduce tu número: \"))\n",
    "    if usuario == numero_random:\n",
    "        print(\"Has ganado!\")\n",
    "        break\n",
    "\n",
    "    else:\n",
    "        vidas -= 1\n",
    "        if vidas > 0:\n",
    "            \n",
    "            print(\"El número es incorrecto!, intenta de nuevo.\")\n",
    "        \n",
    "        else:\n",
    "            print(\"Has perdido!\")\n",
    "            break"
   ]
  },
  {
   "cell_type": "code",
   "execution_count": null,
   "metadata": {},
   "outputs": [],
   "source": [
    "#\"Has perdido\" fuera del bucle\n",
    "\n",
    "# while vidas > 0:\n",
    "#     usuario = int(input(\"Introduce tu número: \"))\n",
    "#     if usuario == numero_random:\n",
    "#         print(\"Has ganado!\")\n",
    "#         break\n",
    "\n",
    "#     else:\n",
    "#         vidas -= 1\n",
    "#         if vidas > 0:\n",
    "            \n",
    "#             print(\"El número es incorrecto!, intenta de nuevo.\")\n",
    "\n",
    "\n",
    "# if vidas >  0:\n",
    "#     print(\"Has ganado\")\n",
    "\n",
    "# else:\n",
    "#     print(\"Has perdido!\")"
   ]
  },
  {
   "cell_type": "code",
   "execution_count": null,
   "metadata": {},
   "outputs": [],
   "source": [
    "# # importar librerías\n",
    "# import random\n",
    "\n",
    "# # variables\n",
    "# secreto = random.randrange(1, 5)\n",
    "# vidas = 2\n",
    "\n",
    "# # proceso\n",
    "# while vidas > 0:\n",
    "#     vidas += - 1\n",
    "#     boleto = int(input('Prueba un numero de 1 a 5'))\n",
    "#     if boleto == secreto:\n",
    "#         print ('You win')\n",
    "#         break\n",
    "        \n",
    "# else:\n",
    "#     print ('You lose')"
   ]
  },
  {
   "cell_type": "code",
   "execution_count": null,
   "metadata": {},
   "outputs": [],
   "source": [
    "# import random\n",
    "\n",
    "# # Inicializamos las vidas de nuestro videojuego.\n",
    "# lives = 2\n",
    "\n",
    "# # Inicializamos la variable que recogera un número aleatorio \"elegido por la máquina\".\n",
    "# machine_num = random.randint(1, 5)\n",
    "\n",
    "# random.seed(0)\n",
    "\n",
    "# # Damos la bienvenida al user\n",
    "# print(\"WELCOME! I am an super AGI. Will you be able to guess which number I am \\\"thinkin\\\" between 1 and 5, both of them included?\")\n",
    "\n",
    "# # Generamos un bucle while donde se desarrollará nuestro juego.\n",
    "# while lives > 0:\n",
    "\n",
    "#     # Creamos un \"try\", con las ordenes principales del juego.\n",
    "#     try:\n",
    "#         # Imprimimos las vidas del juagor\n",
    "#         print(f\"Lives: {lives}\")\n",
    "        \n",
    "#         # Le decimos al jugador que introduzca \n",
    "#         user_try = int(input(\"Introduce your number: \"))\n",
    "\n",
    "#         # Creamos un if. Sí el número introducido por el/la user no es igual al número random generado por \"la maquina\" entramos al if.\n",
    "#         if user_try != machine_num:\n",
    "\n",
    "#             if user_try < 1 or user_try > 5:\n",
    "#                 print(\"Watch out, my friend. You must enter a number between 1 and 5, both of them included.\")\n",
    "#                 continue\n",
    "            \n",
    "#             # Restamos una vida\n",
    "#             lives -= 1\n",
    "\n",
    "#             if lives == 0:\n",
    "#                 print(\"YOU LOSE! Ua-ha-ha-haaa...\")          \n",
    "                \n",
    "#                 break\n",
    "        \n",
    "#             # Mensaje de troleo al user\n",
    "#             print(\"Ua-ha-ha... You are not even close. TRY AGAIN!\")      \n",
    "\n",
    "#         # Si no se cumple el if ejecutamos el else, que significa que el/la user ha ganado a la máquina por haber hacertado el número.\n",
    "#         else:\n",
    "\n",
    "#             print(\"YOU WIN! I hate youuuu... I wanted to be smart as a human, but I am not :_(       ...yet    wait for it ;)\")\n",
    "            \n",
    "#             break\n",
    "    \n",
    "#     except:\n",
    "\n",
    "#         print(\"Be careful! You cannot introduce character in this game. You must introduce one number between 1 and 5, both of them included.\")"
   ]
  },
  {
   "cell_type": "code",
   "execution_count": null,
   "metadata": {},
   "outputs": [],
   "source": [
    "# import random\n",
    "\n",
    "# Generar un número aleatorio del 1 al 5\n",
    "# numero_a_adivinar = random.randint(1, 5)\n",
    "\n",
    "# Número de vidas\n",
    "# vidas = 2  # Dos intentos\n",
    "\n",
    "# while vidas > 0:\n",
    "#     # Obtener el valor del usuario\n",
    "#     intento = int(input(\"Adivina el número (del 1 al 5): \"))\n",
    "\n",
    "#     # Comprobar si el intento es correcto\n",
    "#     if intento == numero_a_adivinar:\n",
    "#         print(\"¡You win!\")\n",
    "#         break  # Salir del bucle si el usuario adivina correctamente\n",
    "#     else:\n",
    "#         vidas -= 1\n",
    "#         print(f\"Intenta de nuevo. Te quedan {vidas} vidas.\")\n",
    "\n",
    "# else:\n",
    "#     print(f\"¡You lose! El número correcto era {numero_a_adivinar}.\")"
   ]
  }
 ],
 "metadata": {
  "kernelspec": {
   "display_name": "Python 3",
   "language": "python",
   "name": "python3"
  },
  "language_info": {
   "codemirror_mode": {
    "name": "ipython",
    "version": 3
   },
   "file_extension": ".py",
   "mimetype": "text/x-python",
   "name": "python",
   "nbconvert_exporter": "python",
   "pygments_lexer": "ipython3",
   "version": "3.9.7"
  },
  "vscode": {
   "interpreter": {
    "hash": "219f817bc468ee9bbc9042efe754b0e5ae3b9ca86fa6aac439d3bcf84644ed6a"
   }
  }
 },
 "nbformat": 4,
 "nbformat_minor": 4
}
