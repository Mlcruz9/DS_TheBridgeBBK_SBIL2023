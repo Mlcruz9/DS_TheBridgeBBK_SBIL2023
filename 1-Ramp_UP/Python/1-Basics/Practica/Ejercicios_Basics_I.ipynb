{
 "cells": [
  {
   "cell_type": "markdown",
   "metadata": {},
   "source": [
    "![imagen](./img/ejercicios.png)"
   ]
  },
  {
   "cell_type": "markdown",
   "metadata": {},
   "source": [
    "# Ejercicios Python Basics I"
   ]
  },
  {
   "cell_type": "markdown",
   "metadata": {},
   "source": [
    "## Ejercicio 1\n",
    "1. Escribe el nombre de la calle de tu domicilio en una variable\n",
    "2. Escribe el numero de la calle en otra\n",
    "3. Ciudad en una tercera\n",
    "4. Codigo postal en la cuarta variable\n",
    "5. Crea una quinta variable que concatene todas ellas\n",
    "6. Imprímela por pantalla\n",
    "7. Imprime las 4 variables concatenadas por pantalla sin utilizar la quinta variable"
   ]
  },
  {
   "cell_type": "code",
   "execution_count": 36,
   "metadata": {},
   "outputs": [
    {
     "name": "stdout",
     "output_type": "stream",
     "text": [
      "Urazurrutia 3 Bilbao 48001\n",
      "Urazurrutia 3 Bilbao 48001\n",
      "Urazurrutia 3 Bilbao 48001\n",
      "Urazurrutia 3 Bilbao 48001\n",
      "Urazurrutia 3 Bilbao 48001\n"
     ]
    }
   ],
   "source": [
    "calle = \"Urazurrutia\"\n",
    "num_calle = 3\n",
    "ciudad = \"Bilbao\"\n",
    "cod_post = \"48001\"\n",
    "espacio = \" \"\n",
    "\n",
    "direccion = calle + espacio + str(num_calle) + espacio + ciudad + espacio + cod_post\n",
    "print(direccion)\n",
    "#Metodo 1 concat\n",
    "print(calle, num_calle, ciudad, cod_post)\n",
    "#Metodo 2 concat\n",
    "print(f'{calle} {num_calle} {ciudad} {cod_post}')\n",
    "#Metodo 3 concat\n",
    "print(\"%s %s %s %s\"%(calle, num_calle, ciudad, cod_post))\n",
    "#Metodo 4 concat\n",
    "print(\"{} {} {} {}\".format(calle, num_calle, ciudad, cod_post))"
   ]
  },
  {
   "cell_type": "markdown",
   "metadata": {},
   "source": [
    "## Ejercicio 2\n",
    "Repite el ejercicio 1, pero pidiendo estos datos al usuario en vez de declararlos, imprimiendo a continuación la dirección completa"
   ]
  },
  {
   "cell_type": "code",
   "execution_count": null,
   "metadata": {},
   "outputs": [],
   "source": [
    "calle = input(\"Introduzca su calle: \")\n",
    "num_calle = input(\"Introduzca su número de calle: \")\n",
    "ciudad = input(\"Introduzca su ciudad: \")\n",
    "cod_post = input(\"Introduzca su código postal: \")\n",
    "\n",
    "print(f'{calle} {num_calle} {ciudad} {cod_post}')"
   ]
  },
  {
   "cell_type": "code",
   "execution_count": 28,
   "metadata": {},
   "outputs": [
    {
     "name": "stdout",
     "output_type": "stream",
     "text": [
      "45459.6913\n"
     ]
    }
   ],
   "source": [
    "primer_número = float(input(\"Introduzca primer número: \"))\n",
    "segundo_número = float(input(\"Introduzca segundo número: \"))\n",
    "\n",
    "suma = primer_número + segundo_número\n",
    "print(round(suma, 4))"
   ]
  },
  {
   "cell_type": "code",
   "execution_count": 20,
   "metadata": {},
   "outputs": [],
   "source": [
    "lista_1 = [1, 2, 3, 4]\n",
    "\n",
    "lista_1.append(5)"
   ]
  },
  {
   "cell_type": "markdown",
   "metadata": {},
   "source": [
    "## Ejercicio 3\n",
    "¿Qué variables están mal escritas y por qué? Realiza primero tu hipótesis y luego ejecuta las variables para comprobarlo. En ese orden :)\n",
    "\n",
    "\n",
    "1. mi_variable = \"Economía\"\n",
    "2. otra_var = \"Ejercicio\n",
    "3. True = \"Ejercicio\"\n",
    "4. mi variab1e = \"Alpha\"\n",
    "5. import = 40\n",
    "6. 81mi_variable = \"Agua\"\n",
    "7. mi_variable10 = 6"
   ]
  },
  {
   "cell_type": "markdown",
   "metadata": {},
   "source": [
    "1. Bien\n",
    "2. Mal (No cierra comilla)\n",
    "3. Mal (Palabra reservada)\n",
    "4. Mal (Espacio en el nombre)\n",
    "5. Mal (Palabra reservada)\n",
    "6. Mal (Comienza con número)\n",
    "7. Bien"
   ]
  },
  {
   "cell_type": "markdown",
   "metadata": {},
   "source": [
    "## Ejercicio 4\n",
    "Realiza un conversor de grados Celsius a Fahrenheit. El conversor tiene que recibir el input del usuario y devolver la conversión.\n",
    "\n",
    "La conversión de grados sigue la siguiente fórmula: F = C × (9 / 5) + 32 "
   ]
  },
  {
   "cell_type": "code",
   "execution_count": 34,
   "metadata": {},
   "outputs": [
    {
     "name": "stdout",
     "output_type": "stream",
     "text": [
      "La temperatura 56.0 en grados Farenheit es igual a 132.8\n"
     ]
    }
   ],
   "source": [
    "celsius = float(input(\"Introduce la temperatura en grados Celsius: \"))\n",
    "\n",
    "farenheit = (celsius * (9/5) + 32)\n",
    "\n",
    "print(f\"La temperatura {celsius} en grados Farenheit es igual a {farenheit}\")"
   ]
  },
  {
   "cell_type": "code",
   "execution_count": 40,
   "metadata": {},
   "outputs": [],
   "source": [
    "def calculadora_far():\n",
    "    celsius = float(input(\"Introduce la temperatura en grados Celsius: \"))\n",
    "\n",
    "    farenheit = (celsius * (9/5) + 32)\n",
    "\n",
    "    return farenheit"
   ]
  },
  {
   "cell_type": "code",
   "execution_count": 41,
   "metadata": {},
   "outputs": [],
   "source": [
    "farenheit = calculadora_far()"
   ]
  },
  {
   "cell_type": "code",
   "execution_count": 42,
   "metadata": {},
   "outputs": [
    {
     "data": {
      "text/plain": [
       "132.8"
      ]
     },
     "execution_count": 42,
     "metadata": {},
     "output_type": "execute_result"
    }
   ],
   "source": [
    "farenheit"
   ]
  },
  {
   "cell_type": "code",
   "execution_count": 43,
   "metadata": {},
   "outputs": [
    {
     "data": {
      "text/plain": [
       "132.8"
      ]
     },
     "execution_count": 43,
     "metadata": {},
     "output_type": "execute_result"
    }
   ],
   "source": [
    "calculadora_far()"
   ]
  },
  {
   "cell_type": "markdown",
   "metadata": {},
   "source": [
    "## Ejercicio 5\n",
    "Comenta  el Ejercicio 4. Pon un comentario multilinea y haz comentarios de cada linea de código"
   ]
  },
  {
   "cell_type": "code",
   "execution_count": 45,
   "metadata": {},
   "outputs": [
    {
     "name": "stdout",
     "output_type": "stream",
     "text": [
      "La temperatura 56.0 en grados Farenheit es igual a 132.8\n"
     ]
    }
   ],
   "source": [
    "'''Vamos a crear una calculadora de Celcius a Farenheit'''\n",
    "\n",
    "#El usuario indica la temperatura en celsius\n",
    "celsius = float(input(\"Introduce la temperatura en grados Celsius: \"))\n",
    "\n",
    "#Calculo de temperatura en Farenheit\n",
    "farenheit = (celsius * (9/5) + 32)\n",
    "\n",
    "#Devuelve el valor en Farenheit\n",
    "print(f\"La temperatura {celsius} en grados Farenheit es igual a {farenheit}\")"
   ]
  }
 ],
 "metadata": {
  "kernelspec": {
   "display_name": "Python 3",
   "language": "python",
   "name": "python3"
  },
  "language_info": {
   "codemirror_mode": {
    "name": "ipython",
    "version": 3
   },
   "file_extension": ".py",
   "mimetype": "text/x-python",
   "name": "python",
   "nbconvert_exporter": "python",
   "pygments_lexer": "ipython3",
   "version": "3.9.7"
  },
  "nbTranslate": {
   "displayLangs": [
    "*"
   ],
   "hotkey": "alt-t",
   "langInMainMenu": true,
   "sourceLang": "en",
   "targetLang": "fr",
   "useGoogleTranslate": true
  },
  "varInspector": {
   "cols": {
    "lenName": 16,
    "lenType": 16,
    "lenVar": 40
   },
   "kernels_config": {
    "python": {
     "delete_cmd_postfix": "",
     "delete_cmd_prefix": "del ",
     "library": "var_list.py",
     "varRefreshCmd": "print(var_dic_list())"
    },
    "r": {
     "delete_cmd_postfix": ") ",
     "delete_cmd_prefix": "rm(",
     "library": "var_list.r",
     "varRefreshCmd": "cat(var_dic_list()) "
    }
   },
   "types_to_exclude": [
    "module",
    "function",
    "builtin_function_or_method",
    "instance",
    "_Feature"
   ],
   "window_display": false
  },
  "vscode": {
   "interpreter": {
    "hash": "219f817bc468ee9bbc9042efe754b0e5ae3b9ca86fa6aac439d3bcf84644ed6a"
   }
  }
 },
 "nbformat": 4,
 "nbformat_minor": 4
}
