{
 "cells": [
  {
   "cell_type": "markdown",
   "metadata": {},
   "source": [
    "![imagen](./img/ejercicios.png)"
   ]
  },
  {
   "cell_type": "markdown",
   "metadata": {},
   "source": [
    "# Ejercicios Python Basics II"
   ]
  },
  {
   "cell_type": "markdown",
   "metadata": {},
   "source": [
    "## Ejercicio 1\n",
    "* Crea dos variables numericas: un `int` y un `float`\n",
    "* Comprueba sus tipos\n",
    "* Sumalas en otra nueva\n",
    "* ¿De qué tipo es la nueva variable?\n",
    "* Elimina las variables creadas"
   ]
  },
  {
   "cell_type": "code",
   "execution_count": 45,
   "metadata": {},
   "outputs": [
    {
     "name": "stdout",
     "output_type": "stream",
     "text": [
      "entero <class 'int'>, real: <class 'float'>\n",
      "<class 'float'>\n"
     ]
    }
   ],
   "source": [
    "#1\n",
    "entero = 10\n",
    "real = 13.7\n",
    "\n",
    "#2\n",
    "print(f'entero {type(entero)}, real: {type(real)}')\n",
    "\n",
    "#3\n",
    "entero_real = entero + real\n",
    "\n",
    "#4\n",
    "print(type(entero_real))\n",
    "\n",
    "#5\n",
    "del (entero, real)\n",
    "# del (entero, real)"
   ]
  },
  {
   "cell_type": "code",
   "execution_count": 46,
   "metadata": {},
   "outputs": [
    {
     "ename": "NameError",
     "evalue": "name 'real' is not defined",
     "output_type": "error",
     "traceback": [
      "\u001b[1;31m---------------------------------------------------------------------------\u001b[0m",
      "\u001b[1;31mNameError\u001b[0m                                 Traceback (most recent call last)",
      "\u001b[1;32mc:\\Users\\misla\\Documents\\Bootcamp\\DS_TheBridgeBBK_SBIL2023\\1-Ramp_UP\\Python\\1-Basics\\Practica\\Ejercicios_Basics_II.ipynb Cell 5\u001b[0m line \u001b[0;36m1\n\u001b[1;32m----> <a href='vscode-notebook-cell:/c%3A/Users/misla/Documents/Bootcamp/DS_TheBridgeBBK_SBIL2023/1-Ramp_UP/Python/1-Basics/Practica/Ejercicios_Basics_II.ipynb#X54sZmlsZQ%3D%3D?line=0'>1</a>\u001b[0m real\n",
      "\u001b[1;31mNameError\u001b[0m: name 'real' is not defined"
     ]
    }
   ],
   "source": [
    "real"
   ]
  },
  {
   "cell_type": "code",
   "execution_count": 36,
   "metadata": {},
   "outputs": [
    {
     "ename": "NameError",
     "evalue": "name 'entero_real' is not defined",
     "output_type": "error",
     "traceback": [
      "\u001b[1;31m---------------------------------------------------------------------------\u001b[0m",
      "\u001b[1;31mNameError\u001b[0m                                 Traceback (most recent call last)",
      "\u001b[1;32mc:\\Users\\misla\\Documents\\Bootcamp\\DS_TheBridgeBBK_SBIL2023\\1-Ramp_UP\\Python\\1-Basics\\Practica\\Ejercicios_Basics_II.ipynb Cell 5\u001b[0m line \u001b[0;36m1\n\u001b[1;32m----> <a href='vscode-notebook-cell:/c%3A/Users/misla/Documents/Bootcamp/DS_TheBridgeBBK_SBIL2023/1-Ramp_UP/Python/1-Basics/Practica/Ejercicios_Basics_II.ipynb#X53sZmlsZQ%3D%3D?line=0'>1</a>\u001b[0m entero_real\n",
      "\u001b[1;31mNameError\u001b[0m: name 'entero_real' is not defined"
     ]
    }
   ],
   "source": [
    "entero_real"
   ]
  },
  {
   "cell_type": "markdown",
   "metadata": {},
   "source": [
    "## Ejercicio 2\n",
    "Escribe un programa para pasar de grados a radianes. Hay que usar `input`. Recuerda que la conversión se realiza mediante\n",
    "\n",
    "$$radianes = grados*(pi/180)$$"
   ]
  },
  {
   "cell_type": "code",
   "execution_count": 47,
   "metadata": {},
   "outputs": [],
   "source": [
    "from math import pi"
   ]
  },
  {
   "cell_type": "code",
   "execution_count": 50,
   "metadata": {},
   "outputs": [
    {
     "name": "stdout",
     "output_type": "stream",
     "text": [
      "la cantidad 30.0 en radianes equivale a 0.5235987755982988 radianes\n"
     ]
    }
   ],
   "source": [
    "grados = float(input('Indique los grados: '))\n",
    "\n",
    "radianes = grados * (pi/180)\n",
    "\n",
    "print(f'la cantidad {grados} en radianes equivale a {radianes} radianes')"
   ]
  },
  {
   "cell_type": "markdown",
   "metadata": {},
   "source": [
    "## Ejercicio 3\n",
    "Escribe un programa que calcule el area de un paralelogramo (base x altura). También con `input`"
   ]
  },
  {
   "cell_type": "code",
   "execution_count": 51,
   "metadata": {},
   "outputs": [
    {
     "name": "stdout",
     "output_type": "stream",
     "text": [
      "El área de su figura de base 10.0 y altura 10.0 es igual a 100.0\n"
     ]
    }
   ],
   "source": [
    "base = float(input(\"Introduzca la base de su figura: \"))\n",
    "altura = float(input(\"introduzca la altura de su figura: \"))\n",
    "\n",
    "area = base * altura\n",
    "\n",
    "print(f'El área de su figura de base {base} y altura {altura} es igual a {area}')"
   ]
  },
  {
   "cell_type": "markdown",
   "metadata": {},
   "source": [
    "## Ejercicio 4\n",
    "Tenemos las siguientes variables:\n",
    "\n",
    "```Python\n",
    "A = 4\n",
    "B = \"Text\"\n",
    "C = 4.1\n",
    "```\n",
    "\n",
    "Comprueba:\n",
    "1. Si A y B son equivalentes\n",
    "2. Si A y C NO son equivalentes\n",
    "3. Si A es mayor que C \n",
    "4. Si C es menor o igual que A\n",
    "5. Si B NO es equivalente a C"
   ]
  },
  {
   "cell_type": "code",
   "execution_count": 52,
   "metadata": {},
   "outputs": [],
   "source": [
    "A = 4\n",
    "B = \"Text\"\n",
    "C = 4.1"
   ]
  },
  {
   "cell_type": "code",
   "execution_count": 55,
   "metadata": {},
   "outputs": [
    {
     "name": "stdout",
     "output_type": "stream",
     "text": [
      "False\n",
      "----------\n",
      "True\n",
      "----------\n",
      "False\n",
      "----------\n",
      "False\n",
      "----------\n",
      "True\n"
     ]
    }
   ],
   "source": [
    "print(A == B)\n",
    "print('-' *  10)\n",
    "print(A != C)\n",
    "print('-' * 10)\n",
    "print(A > C)\n",
    "print('-' *  10)\n",
    "print(C <= A)\n",
    "print('-' * 10)\n",
    "print(B != C)"
   ]
  },
  {
   "cell_type": "markdown",
   "metadata": {},
   "source": [
    "## Ejercicio 5\n",
    "Crea un programa donde se recojan dos inputs del usuario, y el output del programa sea si esos inputs son iguales o no"
   ]
  },
  {
   "cell_type": "code",
   "execution_count": 56,
   "metadata": {},
   "outputs": [
    {
     "name": "stdout",
     "output_type": "stream",
     "text": [
      "True\n"
     ]
    }
   ],
   "source": [
    "input_1 = input(\"Indique su primer input: \")\n",
    "input_2 = input(\"Indique su segundo input: \")\n",
    "\n",
    "print(input_1 == input_2)"
   ]
  },
  {
   "cell_type": "code",
   "execution_count": 58,
   "metadata": {},
   "outputs": [
    {
     "name": "stdout",
     "output_type": "stream",
     "text": [
      "23\n",
      "23\n",
      "False\n"
     ]
    }
   ],
   "source": [
    "nacimiento= input(\"Introduce año)\")\n",
    "edad = input(\"Introduce un numero)\")\n",
    "\n",
    "edad_actual = (2023)-(int(nacimiento))\n",
    "\n",
    "print (edad)\n",
    "print (edad_actual)\n",
    "\n",
    "print (edad == edad_actual) # como indica que es verdadero????"
   ]
  },
  {
   "cell_type": "markdown",
   "metadata": {},
   "source": [
    "## Ejercicio 6\n",
    "Mismo programa que en 5, pero en esta ocasión tienen que ser tres inputs y dos salidas. Una de las salidas que nos indique si todos son iguales, y la otra si al menos dos inputs sí que lo son"
   ]
  },
  {
   "cell_type": "code",
   "execution_count": 62,
   "metadata": {},
   "outputs": [
    {
     "name": "stdout",
     "output_type": "stream",
     "text": [
      "False\n",
      "True\n"
     ]
    }
   ],
   "source": [
    "input_1 = input(\"Introduce tu primer input: \")\n",
    "input_2 = input(\"Introduce tu segundo input: \")\n",
    "input_3 = input(\"Introduce tu tercer input: \")\n",
    "\n",
    "print((input_1 == input_2) and (input_1 == input_3))\n",
    "\n",
    "print((input_1 == input_2) or (input_1 == input_3) or (input_2 == input_3))"
   ]
  },
  {
   "cell_type": "code",
   "execution_count": 68,
   "metadata": {},
   "outputs": [
    {
     "name": "stdout",
     "output_type": "stream",
     "text": [
      "Todos los productos son iguales\n"
     ]
    }
   ],
   "source": [
    "# var1=input(\"especifique el primer producto\")\n",
    "# var2=input(\"especifique el segundo producto\")\n",
    "# var3=input(\"especifique el tercer producto\")\n",
    "# if var1==var2==var3:\n",
    "#     print(\"Todos los productos son iguales\")\n",
    "# if var1==var2 or var1==var3 or var2==var3 :\n",
    "#     print(\"Al menos hay dos productos iguales\")"
   ]
  },
  {
   "cell_type": "markdown",
   "metadata": {},
   "source": [
    "## Ejercicio 7\n",
    "Crea un programa que recoja dos inputs. Tiene que comprobar si su suma es igual, superior o inferior a 10, cada condición por separado"
   ]
  },
  {
   "cell_type": "code",
   "execution_count": 70,
   "metadata": {},
   "outputs": [
    {
     "name": "stdout",
     "output_type": "stream",
     "text": [
      "Suma igual a 18.0 False\n",
      "Suma mayor que 18.0 False\n",
      "Suma menor que 18.0 True\n"
     ]
    }
   ],
   "source": [
    "T = 10\n",
    "input_1 = float(input(\"Introduce tu primer input: \"))\n",
    "input_2 = float(input(\"Introduce tu segundo input: \"))\n",
    "\n",
    "suma = input_1 + input_2\n",
    "t = float(input(\"Introduzca un numero a comparar: \"))\n",
    "\n",
    "cond_1 = suma == T\n",
    "cond_2 = suma > T\n",
    "cond_3 = suma < T\n",
    "\n",
    "print(f\"Suma igual a {T}\", cond_1)\n",
    "print(f\"Suma mayor que {T}\", cond_2)\n",
    "print(f\"Suma menor que {T}\", cond_3)"
   ]
  },
  {
   "cell_type": "markdown",
   "metadata": {},
   "source": [
    "## Ejercicio 8\n",
    "Razona sin ejecutar código el output que obtendremos de las siguientes sentencias\n",
    "1. True and True and False\n",
    "2. not ((True or False) and (True or False))\n",
    "3. (False or False or False or True) and False\n",
    "4. not False and True and not True\n",
    "\n",
    "Compruébalo en python"
   ]
  },
  {
   "attachments": {},
   "cell_type": "markdown",
   "metadata": {},
   "source": [
    "1. False\n",
    "2. False\n",
    "3. False\n",
    "4. False"
   ]
  },
  {
   "cell_type": "markdown",
   "metadata": {},
   "source": [
    "## Ejercicio 9\n",
    "Para este ejercicio vamos a poner en práctica [las funciones built in](https://docs.python.org/3/library/functions.html).\n",
    "\n",
    "1. Calcula el máximo de la lista: [4, 6, 8, -1]\n",
    "2. Suma todos los elementos de la lista anterior\n",
    "3. Redondea este float a 3 dígitos decimales: 63.451256965\n",
    "4. Valor absoluto de: -74"
   ]
  },
  {
   "cell_type": "code",
   "execution_count": 74,
   "metadata": {},
   "outputs": [
    {
     "name": "stdout",
     "output_type": "stream",
     "text": [
      "8\n",
      "17\n",
      "63.451\n",
      "74\n"
     ]
    }
   ],
   "source": [
    "lista_ej_9 = [4, 6, 8, -1]\n",
    "\n",
    "#1\n",
    "print(max(lista_ej_9))\n",
    "\n",
    "#2\n",
    "print(sum(lista_ej_9))\n",
    "\n",
    "#3\n",
    "print(round(63.451256965, 3))\n",
    "\n",
    "#4\n",
    "print(abs(-74))"
   ]
  },
  {
   "cell_type": "markdown",
   "metadata": {},
   "source": [
    "## Ejercicio 10\n",
    "Para el siguiente string se pide imprimir por pantalla los siguientes casos\n",
    "\n",
    "    \"A quien madruga, dios le ayuda\"\n",
    "\n",
    "1. Pasarlo todo a mayusculas\n",
    "2. Pasarlo todo a minusculas\n",
    "3. Pasar a mayusculas solo las iniciales de las palabras\n",
    "4. Crea una lista dividiendolo por sus espacios\n",
    "5. Sustituye las comas `,` por puntos y comas `;`\n",
    "6. Elimina las `a` minusculas"
   ]
  },
  {
   "cell_type": "code",
   "execution_count": 135,
   "metadata": {},
   "outputs": [
    {
     "name": "stdout",
     "output_type": "stream",
     "text": [
      "A QUIEN MADRUGA, DIOS LE AYUDA\n",
      "a quien madruga, dios le ayuda\n",
      "A Quien Madruga, Dios Le Ayuda\n",
      "['A', 'quien', 'madruga,', 'dios', 'le', 'ayuda']\n",
      "A quien madruga; dios le ayuda\n",
      "A quien mdrug, dios le yud\n"
     ]
    }
   ],
   "source": [
    "frase = \"A quien madruga, dios le ayuda\"\n",
    "\n",
    "#1\n",
    "print(frase.upper())\n",
    "\n",
    "#2\n",
    "print(frase.lower())\n",
    "\n",
    "#3\n",
    "print(frase.title())\n",
    "\n",
    "#4\n",
    "\n",
    "lista_frase = frase.split(\" \")\n",
    "print(lista_frase)\n",
    "\n",
    "#5\n",
    "print(frase.replace(\",\", \";\"))\n",
    "\n",
    "#6\n",
    "print(frase.replace(\"a\", \"\"))\n"
   ]
  },
  {
   "cell_type": "code",
   "execution_count": 133,
   "metadata": {},
   "outputs": [
    {
     "name": "stdout",
     "output_type": "stream",
     "text": [
      "Help on built-in function remove:\n",
      "\n",
      "remove(value, /) method of builtins.list instance\n",
      "    Remove first occurrence of value.\n",
      "    \n",
      "    Raises ValueError if the value is not present.\n",
      "\n"
     ]
    }
   ],
   "source": [
    "# help(lista_frase.remove)"
   ]
  },
  {
   "cell_type": "code",
   "execution_count": 131,
   "metadata": {},
   "outputs": [],
   "source": [
    "#No guarda nada\n",
    "lista = lista_frase.remove(\"A\")"
   ]
  },
  {
   "cell_type": "code",
   "execution_count": 132,
   "metadata": {},
   "outputs": [
    {
     "data": {
      "text/plain": [
       "['quien', 'madruga,', 'dios', 'le', 'ayuda', 'dios', 'dios', 'Dios']"
      ]
     },
     "execution_count": 132,
     "metadata": {},
     "output_type": "execute_result"
    }
   ],
   "source": [
    "lista_frase"
   ]
  },
  {
   "cell_type": "code",
   "execution_count": 128,
   "metadata": {},
   "outputs": [
    {
     "ename": "NameError",
     "evalue": "name 'lista' is not defined",
     "output_type": "error",
     "traceback": [
      "\u001b[1;31m---------------------------------------------------------------------------\u001b[0m",
      "\u001b[1;31mNameError\u001b[0m                                 Traceback (most recent call last)",
      "\u001b[1;32mc:\\Users\\misla\\Documents\\Bootcamp\\DS_TheBridgeBBK_SBIL2023\\1-Ramp_UP\\Python\\1-Basics\\Practica\\Ejercicios_Basics_II.ipynb Cell 30\u001b[0m line \u001b[0;36m1\n\u001b[1;32m----> <a href='vscode-notebook-cell:/c%3A/Users/misla/Documents/Bootcamp/DS_TheBridgeBBK_SBIL2023/1-Ramp_UP/Python/1-Basics/Practica/Ejercicios_Basics_II.ipynb#Y102sZmlsZQ%3D%3D?line=0'>1</a>\u001b[0m lista\n",
      "\u001b[1;31mNameError\u001b[0m: name 'lista' is not defined"
     ]
    }
   ],
   "source": [
    "#Da error por la función remove\n",
    "lista"
   ]
  },
  {
   "cell_type": "code",
   "execution_count": null,
   "metadata": {},
   "outputs": [],
   "source": [
    "### Otras opciones\n",
    "\n",
    "\n",
    "# lista_frase.index(\"dios\")\n",
    "\n",
    "## lista_frase = frase.split(\" \") -- Crear una lista con la frase\n",
    "\n",
    "## lista_frase[3] = \"Dios\" -- Sustituir la cuarta posición (3er indice) por Dios\n",
    "\n",
    "# print(\" \".join(lista_frase)) -- Unir los elementos de la lista con espacios"
   ]
  },
  {
   "cell_type": "markdown",
   "metadata": {},
   "source": [
    "## Ejercicio 11\n",
    "1. Crea una lista con 3 elementos numéricos\n",
    "2. Añade un cuarto elemento\n",
    "3. Calcula la suma de todos\n",
    "4. Elimina el segundo elemento de la lista\n",
    "5. Añade otro elemento en la posicion 3 de la lista\n",
    "6. Crea otra lista con 4 elementos y concaténala a la que ya tenías."
   ]
  },
  {
   "cell_type": "code",
   "execution_count": 160,
   "metadata": {},
   "outputs": [
    {
     "name": "stdout",
     "output_type": "stream",
     "text": [
      "[1, 2, 3]\n",
      "[1, 2, 3, 4]\n",
      "10\n",
      "[1, 3, 4]\n",
      "[1, 3, 5, 4]\n",
      "[6, 7, 8, 9, 6, 7, 8, 9]\n"
     ]
    }
   ],
   "source": [
    "#1\n",
    "lista_ej_11 = [1, 2, 3]\n",
    "print(lista_ej_11)\n",
    "\n",
    "#2\n",
    "lista_ej_11.append(4)\n",
    "print(lista_ej_11)\n",
    "\n",
    "#3\n",
    "print(sum(lista_ej_11))\n",
    "\n",
    "#4\n",
    "elemento_eliminado = lista_ej_11.pop(1)\n",
    "print(lista_ej_11)\n",
    "\n",
    "# del lista_ej_11[1]\n",
    "# print(lista_ej_11)\n",
    "\n",
    "#5\n",
    "lista_ej_11.insert(2, 5)\n",
    "print(lista_ej_11)\n",
    "\n",
    "#6\n",
    "\n",
    "lista_ej_11_2 = [6, 7, 8, 9]\n",
    "\n",
    "# lista_ej_11_3_concat = lista_ej_11 + lista_ej_11_2\n",
    "\n",
    "lista_ej_11_2.extend([6, 7, 8, 9])\n",
    "print(lista_ej_11_2)\n"
   ]
  },
  {
   "cell_type": "code",
   "execution_count": 154,
   "metadata": {},
   "outputs": [
    {
     "data": {
      "text/plain": [
       "[1, 3, 4]"
      ]
     },
     "execution_count": 154,
     "metadata": {},
     "output_type": "execute_result"
    }
   ],
   "source": [
    "lista_ej_11"
   ]
  },
  {
   "cell_type": "code",
   "execution_count": 151,
   "metadata": {},
   "outputs": [
    {
     "data": {
      "text/plain": [
       "2"
      ]
     },
     "execution_count": 151,
     "metadata": {},
     "output_type": "execute_result"
    }
   ],
   "source": [
    "elemento_eliminado"
   ]
  }
 ],
 "metadata": {
  "kernelspec": {
   "display_name": "Python 3",
   "language": "python",
   "name": "python3"
  },
  "language_info": {
   "codemirror_mode": {
    "name": "ipython",
    "version": 3
   },
   "file_extension": ".py",
   "mimetype": "text/x-python",
   "name": "python",
   "nbconvert_exporter": "python",
   "pygments_lexer": "ipython3",
   "version": "3.9.7"
  },
  "nbTranslate": {
   "displayLangs": [
    "*"
   ],
   "hotkey": "alt-t",
   "langInMainMenu": true,
   "sourceLang": "en",
   "targetLang": "fr",
   "useGoogleTranslate": true
  },
  "varInspector": {
   "cols": {
    "lenName": 16,
    "lenType": 16,
    "lenVar": 40
   },
   "kernels_config": {
    "python": {
     "delete_cmd_postfix": "",
     "delete_cmd_prefix": "del ",
     "library": "var_list.py",
     "varRefreshCmd": "print(var_dic_list())"
    },
    "r": {
     "delete_cmd_postfix": ") ",
     "delete_cmd_prefix": "rm(",
     "library": "var_list.r",
     "varRefreshCmd": "cat(var_dic_list()) "
    }
   },
   "types_to_exclude": [
    "module",
    "function",
    "builtin_function_or_method",
    "instance",
    "_Feature"
   ],
   "window_display": false
  },
  "vscode": {
   "interpreter": {
    "hash": "219f817bc468ee9bbc9042efe754b0e5ae3b9ca86fa6aac439d3bcf84644ed6a"
   }
  }
 },
 "nbformat": 4,
 "nbformat_minor": 4
}
