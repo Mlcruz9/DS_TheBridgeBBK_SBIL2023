{
 "cells": [
  {
   "cell_type": "markdown",
   "metadata": {},
   "source": [
    "![imagen](./img/ejercicios.png)"
   ]
  },
  {
   "cell_type": "markdown",
   "metadata": {},
   "source": [
    "## Ejercicio print\n",
    "Imprime por pantalla esta cita con el siguiente formato\n",
    "\n",
    "![imagen](./img/frase_Einstein.PNG)"
   ]
  },
  {
   "cell_type": "code",
   "execution_count": 12,
   "metadata": {},
   "outputs": [
    {
     "name": "stdout",
     "output_type": "stream",
     "text": [
      "¿Por qué esta magnífica tecnología científica \n",
      "\t que ahorra trabajo y nos hace    la vida más fácil \n",
      "\t\t nos aporta tan poca felicidad? \n",
      "\t\t      La respuesta es esta,simplemente: porque aún no hemos aprendido a usarla con tino. \n",
      " \"Albert Einstein\"\n"
     ]
    }
   ],
   "source": [
    "print(\"¿Por qué esta magnífica tecnología científica \\n\\t que ahorra trabajo y nos hace\\\n",
    "    la vida más fácil \\n\\t\\t nos aporta tan poca felicidad? \\n\\t\\t      La respuesta es esta,\\\n",
    "simplemente: porque aún no hemos aprendido a usarla con tino. \\n \\\"Albert Einstein\\\"\")"
   ]
  },
  {
   "cell_type": "code",
   "execution_count": 18,
   "metadata": {},
   "outputs": [
    {
     "name": "stdout",
     "output_type": "stream",
     "text": [
      " ¿Por qué esta magnífica tecnología científica\n",
      "            que ahorra trabajo y nos hace la vida más fácil\n",
      "                    nos aporta tan poca felicidad?\n",
      "                            La respuesta es esta, simplemente: porque aún no hemos aprendido a usarla con tino.\n",
      "\n",
      "\"Albert Einstein.\"\n"
     ]
    }
   ],
   "source": [
    "print(''' ¿Por qué esta magnífica tecnología científica\n",
    "            que ahorra trabajo y nos hace la vida más fácil\n",
    "                    nos aporta tan poca felicidad?\n",
    "                            La respuesta es esta, simplemente: porque aún no hemos aprendido a usarla con tino.\n",
    "\n",
    "\"Albert Einstein.\"''')"
   ]
  }
 ],
 "metadata": {
  "kernelspec": {
   "display_name": "Python 3",
   "language": "python",
   "name": "python3"
  },
  "language_info": {
   "codemirror_mode": {
    "name": "ipython",
    "version": 3
   },
   "file_extension": ".py",
   "mimetype": "text/x-python",
   "name": "python",
   "nbconvert_exporter": "python",
   "pygments_lexer": "ipython3",
   "version": "3.9.7"
  },
  "nbTranslate": {
   "displayLangs": [
    "*"
   ],
   "hotkey": "alt-t",
   "langInMainMenu": true,
   "sourceLang": "en",
   "targetLang": "fr",
   "useGoogleTranslate": true
  },
  "varInspector": {
   "cols": {
    "lenName": 16,
    "lenType": 16,
    "lenVar": 40
   },
   "kernels_config": {
    "python": {
     "delete_cmd_postfix": "",
     "delete_cmd_prefix": "del ",
     "library": "var_list.py",
     "varRefreshCmd": "print(var_dic_list())"
    },
    "r": {
     "delete_cmd_postfix": ") ",
     "delete_cmd_prefix": "rm(",
     "library": "var_list.r",
     "varRefreshCmd": "cat(var_dic_list()) "
    }
   },
   "types_to_exclude": [
    "module",
    "function",
    "builtin_function_or_method",
    "instance",
    "_Feature"
   ],
   "window_display": false
  },
  "vscode": {
   "interpreter": {
    "hash": "219f817bc468ee9bbc9042efe754b0e5ae3b9ca86fa6aac439d3bcf84644ed6a"
   }
  }
 },
 "nbformat": 4,
 "nbformat_minor": 4
}
