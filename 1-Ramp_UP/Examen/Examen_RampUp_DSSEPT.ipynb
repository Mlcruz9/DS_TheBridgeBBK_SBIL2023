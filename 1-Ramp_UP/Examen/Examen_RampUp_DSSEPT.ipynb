{
 "cells": [
  {
   "attachments": {},
   "cell_type": "markdown",
   "metadata": {},
   "source": [
    "# Test RAMP UP DS-FT SEPTIEMBRE 2023"
   ]
  },
  {
   "cell_type": "markdown",
   "metadata": {},
   "source": [
    "Antes de comenzar, cambia el nombre del archivo notebook poniéndole delante tu nombre y primer apellido:\n",
    "\n",
    "* nombre_apellido_test_pract_ene_2023.ipynb"
   ]
  },
  {
   "cell_type": "code",
   "execution_count": 1,
   "metadata": {},
   "outputs": [],
   "source": [
    "# Escribe tu nombre y apellidos (apellido si solo tienes uno) en las variables:\n",
    "nombre = \"Miguel\"\n",
    "apellidos = \"La Cruz\""
   ]
  },
  {
   "cell_type": "code",
   "execution_count": 2,
   "metadata": {},
   "outputs": [
    {
     "name": "stdout",
     "output_type": "stream",
     "text": [
      "Bienvenido Miguel La Cruz. Mucha suerte!\n"
     ]
    }
   ],
   "source": [
    "# Solo ejecutar\n",
    "nombre_apellidos = nombre + ' ' + apellidos\n",
    "print(\"Bienvenido\", nombre_apellidos + '. Mucha suerte!')"
   ]
  },
  {
   "cell_type": "markdown",
   "metadata": {},
   "source": [
    "-----------------"
   ]
  },
  {
   "cell_type": "code",
   "execution_count": 2,
   "metadata": {},
   "outputs": [],
   "source": [
    "\"\"\"\n",
    "Criterios de corrección:\n",
    "\n",
    "ejecución (ausencia de errores y obtención de resultados)\n",
    "estructura del código\n",
    "uso correcto de variables\n",
    "manejo de tipo de variables\n",
    "asignaciones\n",
    "operaciones booleanas\n",
    "manejo lógico de flujos de control y bucles\n",
    "uso de colecciones\n",
    "uso de funciones\n",
    "\"\"\";\n",
    "\n",
    "# Ejemplo de como queremos ver el código para más de un intento:\n",
    "\n",
    "# intento 1\n",
    "#your code\n",
    "\n",
    "# intento 2\n",
    "#your code"
   ]
  },
  {
   "cell_type": "markdown",
   "metadata": {},
   "source": [
    "#### Notas y pruebas de apoyo para contestar las preguntas\n",
    "\n",
    "\n",
    "Cualquier código aunque no esté correcto nos dirá más de ti que no escribir nada. "
   ]
  },
  {
   "cell_type": "markdown",
   "metadata": {},
   "source": [
    "__Debes subir tus respuestas antes de las 12:00 al enlace que habilitaremos__\n",
    "En dos horas largas debería dar tiempo. ***¡guarda todo lo que hagas!***"
   ]
  },
  {
   "cell_type": "code",
   "execution_count": null,
   "metadata": {},
   "outputs": [],
   "source": [
    "# No te olvides de documentar el código para dejar clara la lógica, sobre todo cuando no sale el resultado"
   ]
  },
  {
   "cell_type": "markdown",
   "metadata": {},
   "source": [
    "### Ejercicio 1\n",
    "En este ejercicio se va a crear una lista con los siguientes elementos. Primero, crearemos las variables que luego añadiremos a la lista. Las variables son las siguientes:\n",
    "\n",
    "1. Crea una variable llamada `edad` de tipo Integer que represente tu edad en años. \n",
    "2. Crea una variable llamada `poblacion` de tipo String , con tu población de nacimiento. \n",
    "3. Crea una variable llamada `altura` con el valor de tu altura en metros de tipo float.\n",
    "4. Crea una variable llamada `s_operativo` de tipo Boolean True si usas Windows y False si usas otro.\n",
    "5. Crea una variable llamada `nada` de tipo None cuyo valor sea None.\n",
    "6. Crea una variable llamada `lista_vacaciones` de tipo List que contenga 5 destinos de viaje a los que te gustaría ir. Cada elemento ha de ser de tipo String.\n",
    "7. Crea una variable llamada `tupla_isla` de tipo Tuple con tres objetos que te llevarías a una isla desierta.\n",
    "8. Crea una variable llamada `dict_pc` con dos keys y dos values. Una key es `marca`, teniendo como value la marca de tu pc de tipo String. Otra key es la `ram`, cuyo valor es es un entero del número de gigas de la ram de tu ordenador\n",
    "9. Añade todos estos elementos en una lista llamada `lista_examen` en el orden de aparición.\n",
    "10. Guarda en la variable `lon_lista_examen` la longitud de `lista_examen`."
   ]
  },
  {
   "cell_type": "code",
   "execution_count": 1,
   "metadata": {},
   "outputs": [
    {
     "name": "stdout",
     "output_type": "stream",
     "text": [
      "[28, 'Zaragoza', 1.8, True, None, ['México', 'Costa Rica', 'Tailandia', 'Dinamarca', 'Egipto'], ('Cantimpliora', 'Navaja', 'Manta'), {'marca': 'Huawei', 'ram': 8}]\n",
      "8\n"
     ]
    }
   ],
   "source": [
    "edad = 28\n",
    "poblacion = \"Zaragoza\"\n",
    "altura = 1.80\n",
    "s_operativo = True\n",
    "nada = None\n",
    "lista_vacaciones = ['México','Costa Rica', 'Tailandia', 'Dinamarca', \"Egipto\"]\n",
    "tupla_isla = ('Cantimpliora','Navaja', \"Manta\")\n",
    "dict_pc = {\"marca\":\"Huawei\", \"ram\": 8}\n",
    "\n",
    "lista_examen = [edad, poblacion, altura, s_operativo, nada, lista_vacaciones, tupla_isla, dict_pc]\n",
    "print(lista_examen)\n",
    "lon_lista_examen = len(lista_examen)\n",
    "print(lon_lista_examen)"
   ]
  },
  {
   "cell_type": "markdown",
   "metadata": {},
   "source": [
    "### Ejercicio 2\n",
    "\n",
    "Escribe un programa que simule un libro de \"sigue tu propia aventura\". Solo se pide control de flujo y uso de print().\n",
    "\n",
    "El programa tiene dos variables:\n",
    "\n",
    "*puerta* --> es una variable de tipo entero\n",
    "\n",
    "*amuleto* --> es una variable booleana\n",
    "\n",
    "\n",
    "    · Si la puerta que eliges es la 1, imprime \"has perdido\"\n",
    "\n",
    "    · Si la puerta que eliges es la 2 y tienes el amuleto (verdadero), imprime \"has ganado\"\n",
    "\n",
    "    · En cualquier otro caso, imprime \"sigue jugando\"\n",
    "\n",
    "Haz este programa de dos formas: usando un AND y sin usar un AND\n",
    "\n",
    "Nota: no son necesarias funciones. Puedes declarar puerta y amuleto al principio de tu programa."
   ]
  },
  {
   "cell_type": "code",
   "execution_count": 2,
   "metadata": {},
   "outputs": [
    {
     "name": "stdout",
     "output_type": "stream",
     "text": [
      "sigue jugando\n"
     ]
    }
   ],
   "source": [
    "puerta = 2\n",
    "amuleto = False\n",
    "\n",
    "if puerta == 1:\n",
    "    print(\"has perdido\")\n",
    "elif puerta == 2:\n",
    "    if amuleto:\n",
    "        print(\"has ganado\")\n",
    "    else:\n",
    "        print(\"sigue jugando\")\n",
    "    "
   ]
  },
  {
   "cell_type": "code",
   "execution_count": 3,
   "metadata": {},
   "outputs": [
    {
     "name": "stdout",
     "output_type": "stream",
     "text": [
      "sigue jugando\n"
     ]
    }
   ],
   "source": [
    "puerta = 2\n",
    "amuleto = False\n",
    "\n",
    "if puerta == 1:\n",
    "    print(\"has perdido\")\n",
    "elif puerta == 2 and amuleto:\n",
    "        print(\"has ganado\")\n",
    "else:\n",
    "    print(\"sigue jugando\")"
   ]
  },
  {
   "cell_type": "markdown",
   "metadata": {},
   "source": [
    "### Ejercicio 3\n",
    "\n",
    "Escribe un programa que solicite al usuario un número entero positivo n y luego imprima un triángulo de asteriscos (*) de altura n. Por ejemplo, si el usuario ingresa 5, el programa debería imprimir:"
   ]
  },
  {
   "cell_type": "code",
   "execution_count": null,
   "metadata": {},
   "outputs": [],
   "source": [
    "'''\n",
    "\n",
    "*\n",
    "*  *  \n",
    "*  *  *  \n",
    "*  *  *  *\n",
    "*  *  *  *  *\n",
    "\n",
    "'''"
   ]
  },
  {
   "cell_type": "code",
   "execution_count": 4,
   "metadata": {},
   "outputs": [
    {
     "name": "stdout",
     "output_type": "stream",
     "text": [
      " *\n",
      " * *\n",
      " * * *\n",
      " * * * *\n",
      " * * * * *\n"
     ]
    }
   ],
   "source": [
    "n = int(input(\"Ingresa un número entero positivo: \"))\n",
    "\n",
    "for i in range(1, n + 1):\n",
    "    for j in range(i):\n",
    "        print(\" *\", end=\"\")\n",
    "    print()  # Salto de línea después de cada fila"
   ]
  },
  {
   "cell_type": "markdown",
   "metadata": {},
   "source": [
    "### Ejercicio 4\n",
    "Crea una clase Flor que instancia todos los atributos como parámetros del constructor.\n",
    "Atributos:\n",
    "\n",
    "nombre --> string que es el nombre de la flor\n",
    "\n",
    "venenosa --> un booleano que indica si es venenosa\n",
    "\n",
    "lista_viveros --> una lista de strings que son los viveros donde se puede comprar\n",
    "\n",
    "métodos de la clase:\n",
    "\n",
    "cantidad_de_viveros --> sin parámetros de entrada, devuelve un entero que es en cuántos sitios se puede comprar\n",
    "\n",
    "imprime_info --> con un parámetro de entrada que es un string llamado *nombre*, no devuelve ningún valor pero imprime el mensaje \"Hola *nombre*, la flor *flor* es/no es venenosa y se puede comprar en X viveros\"\n",
    "\n",
    "donde *nombre* es el parámetro de entrada, *flor* es el nombre de la flor, es/no es venenosa depende de la flor (tiene que estar ajustado a la flor) y X es el número de viveros donde se puede comprar.\n",
    "El constructor **DEBE** tener valores por defecto.\n",
    "\n",
    "Crea una flor por defecto e imprime su información.\n",
    "Nota: No te preocupes si la sintaxis no es perfecta.\n",
    "Esto es válido:\n",
    "\n",
    "Hola Alberto la flor rosa no es venenosa y se puede comprar en 1 viveros"
   ]
  },
  {
   "cell_type": "code",
   "execution_count": 5,
   "metadata": {},
   "outputs": [
    {
     "name": "stdout",
     "output_type": "stream",
     "text": [
      "Hola Alberto la flor rosa no es venenosa y se puede comprar en 1 viveros\n"
     ]
    }
   ],
   "source": [
    "class Flor:\n",
    "    def __init__(self, nombre=\"rosa\", venenosa=False, lista_viveros=[\"centro\"]):\n",
    "        self.nombre = nombre\n",
    "        self.venenosa = venenosa\n",
    "        self.lista_viveros = lista_viveros\n",
    "        \n",
    "    def cantidad_viveros(self):\n",
    "        return len(self.lista_viveros)\n",
    "        \n",
    "    def imprime_info(self, nombre):\n",
    "        if not self.venenosa:\n",
    "            print(\"Hola\", nombre, \"la flor\", self.nombre, \"no es venenosa y se puede comprar en\",self.cantidad_viveros(), \"viveros\")\n",
    "            \n",
    "mi_flor = Flor()\n",
    "mi_flor.imprime_info(\"Alberto\")"
   ]
  },
  {
   "cell_type": "markdown",
   "metadata": {},
   "source": [
    "### Ejercicio 5\n",
    "\n",
    "Crea un programa que pida una contraseña por teclado e indique si es correcta\n",
    "o incorrecta con un print(). La contraseña correcta es “python”. Si la contraseña era incorrecta la pide de nuevo hasta 3 veces como máximo. Si al tercer intento no se acierta, debe ponerse a None y poner en un print() que la cuenta se ha bloqueado. Si se consigue entrar, se muestra que es correcta en un print(). Debe haber como mínimo un **BUCLE WHILE**"
   ]
  },
  {
   "cell_type": "code",
   "execution_count": 6,
   "metadata": {},
   "outputs": [
    {
     "name": "stdout",
     "output_type": "stream",
     "text": [
      "\n",
      "Edad humana 37\n"
     ]
    }
   ],
   "source": [
    "guardada = \"python\"\n",
    "vez = 0\n",
    "\n",
    "contrasena = input(\"Introduzca la contraseña: \")\n",
    "if guardada == contrasena:\n",
    "    print(\"correcta\")\n",
    "else:\n",
    "    vez += 1\n",
    "    while vez <3 and contrasena != guardada: # vez 1, 2\n",
    "        contrasena = input(\"Introduzca la contraseña: \")\n",
    "        if guardada == contrasena:\n",
    "            print(\"correcta\")\n",
    "            break\n",
    "        vez += 1\n",
    "\n",
    "if guardada != contrasena:\n",
    "    guardada = None\n",
    "    print(\"bloqueado\")\n"
   ]
  },
  {
   "cell_type": "markdown",
   "metadata": {},
   "source": [
    "### Ejercicio 6\n",
    "Una empresa usa dos listas  para guardar la información de sus empleados. Una lista guarda el nombre del empleado y la otra guarda su salario. Escribe un programa que cree esas dos listas originalmente vacías y que a través de un menú pueda hacer lo siguiente:\n",
    "    \n",
    "Inserta 1 para añadir un nuevo empleado y su salario\n",
    "\n",
    "Inserta 2 para imprimir los nombres y salarios de todos los empleados\n",
    "\n",
    "Inserta 3 para mostrar el número de empleados\n",
    "\n",
    "Inserta 4 para imprimir los nombres de los empleados con sueldos superiores a 400000\n",
    "\n",
    "Inserta 5 para subir un 5% los sueldos por debajo de 10000\n",
    "\n",
    "Inserta 6 para mostrar el total de todos los salarios\n",
    "\n",
    "Inserta 7 para salir del programa"
   ]
  },
  {
   "cell_type": "code",
   "execution_count": null,
   "metadata": {},
   "outputs": [],
   "source": [
    "# una lista para nombres y una lista para sueldos\n",
    "lista_nombres = []\n",
    "lista_salarios = []\n",
    "\n",
    "# insertamos nuevos nombre-salario\n",
    "def nuevo_empleado(nombre, salario):\n",
    "    lista_nombres.append(nombre)\n",
    "    lista_salarios.append(salario)\n",
    "\n",
    "# imprimimos todos los nombre-salario\n",
    "def imprime_empleados():\n",
    "    for posicion in range(len(lista_nombres)):\n",
    "        print(\"Nombre: \", lista_nombres[posicion], end = \" \")\n",
    "        print(\"Sueldo: \", lista_salarios[posicion], end = \"\\n\")\n",
    "\n",
    "# imprimir cantidad de empleados\n",
    "def imprime_cantidad_empleados():\n",
    "    print(\"Cantidad de empleados: \", len(lista_nombres))\n",
    "\n",
    "# imprimir empleados con salarios mayores de 40 000 dolares\n",
    "def sueldos_altos():\n",
    "\n",
    "    print(\"Sueldos mayores de 40000:\")\n",
    "\n",
    "    # recorro la lista de sueldos\n",
    "    for posicion in range(len(lista_nombres)):\n",
    "\n",
    "        # si ese sueldo es mayor de 40 000, cojo el nombre\n",
    "        if lista_salarios[posicion] > 40000:\n",
    "            print(lista_nombres[posicion])\n",
    "\n",
    "\n",
    "# dar un aumento de un 10% a los sueldos menores de 10 000\n",
    "def aumento():\n",
    "    # recorro la lista de sueldos\n",
    "    for posicion in range(len(lista_salarios)):\n",
    "        if lista_salarios[posicion] < 10000:\n",
    "            lista_salarios[posicion] = lista_salarios[posicion] * 1.1\n",
    "\n",
    "    print(\"¡Los sueldos bajos se han subido!\")\n",
    "\n",
    "\n",
    "\n",
    "\n",
    "# imprimir la suma total de todos los sueldos\n",
    "def masa_salarial():\n",
    "    total = sum(lista_salarios)\n",
    "    print(\"Suma de todos los sueldos: \", total)\n",
    "\n",
    "# menu\n",
    "def menu():\n",
    "\n",
    "    mensaje_inicial = \"\"\"\n",
    "\n",
    "¡Bienvenido!\n",
    "\n",
    "Inserta 1 para añadir un nuevo empleado y su salario\n",
    "Inserta 2 para imprimir los nombres y salarios de todos los empleados\n",
    "Inserta 3 para mostrar el número de empleados\n",
    "Inserta 4 para imprimir los nombres de los empleados con sueldos superiores a 400000\n",
    "Inserta 5 para subir un 5% los sueldos por debajo de 10000\n",
    "Inserta 6 para mostrar el total de todos los salarios\n",
    "Inserta 7 para salir del programa\n",
    "\n",
    "    \"\"\"\n",
    "    \n",
    "    print(mensaje_inicial)\n",
    "\n",
    "    opcion = int(input(\"Inserta option: \"))\n",
    "    while opcion != 7:\n",
    "        if opcion == 1:\n",
    "            nombre = input(\"Nombre de empleado: \")\n",
    "            salario = int(input(\"Salario: \"))\n",
    "\n",
    "            nuevo_empleado(nombre, salario)\n",
    "\n",
    "        elif opcion == 2:\n",
    "            imprime_empleados()\n",
    "\n",
    "        elif opcion == 3:\n",
    "            imprime_cantidad_empleados()\n",
    "\n",
    "        elif opcion == 4:\n",
    "            sueldos_altos()\n",
    "\n",
    "        elif opcion == 5:\n",
    "            aumento()\n",
    "\n",
    "        elif opcion == 6:\n",
    "            masa_salarial()\n",
    "\n",
    "        print() # nueva linea\n",
    "        opcion = int(input(\"Inserta opcion: \"))\n",
    "\n",
    "    print(\"¡Gracias por usar el programa!\")\n",
    "\n",
    "# ejecutamos el programa\n",
    "menu()"
   ]
  },
  {
   "cell_type": "markdown",
   "metadata": {},
   "source": [
    "\n",
    "### Ejercicio 7 (**EXTRA**)\n",
    "\n",
    "#### Crear un programa que calcule la cuota de una hipoteca\n",
    "\n",
    "Las cuotas hipotecarias se calculan utilizando la fórmula del interés francés. \n",
    "\n",
    "La fórmula del interés frances es la siguiente:\n",
    "\\begin{align*}\n",
    "C=V \\frac{(1+i)^n i}{(1+i)^n -1}\n",
    "\\end{align*}\n",
    "\n",
    "\n",
    "    C = cuota a pagar (mensual)\n",
    "    V = volumen del préstamo hipotecario\n",
    "    i = tipo de interés del período (mensual)\n",
    "    n = número de cuotas (mensuales)\n",
    "\n",
    "1. Crea un programa que solicite al usuario los datos de su hipoteca mediante input() los datos (volumen, interés **anual**, y plazo en **años**) y le devuelva la cuota **mensual** a pagar. No es necesario encapsularlo en funciones.\n",
    "\n",
    "2. Crea una función `calcular_hip` que realiza el cálculo y cuyos argumentos de entrada sean `volumen`, `interes_anual` y `años`, devolviendo la couta mensual(float). El argumento de `años` deberá de tener un valor por defecto de 30.\n",
    "3. Calcula la cuota y guárdala en la variable `res_cuota` si la cantidad de la hipoteca son 350000 euros, el interés anual es del 5% y la quiere pagar en 20 años a partir de la función `calcular_hip`.\n",
    "4. Crea una función `gasto_vivienda`, con dos argumentos de entrada `ingreso` y `lista_hip`. Esta lista tendrá los 3 valores de los argumentos de entrada de `calcular_hip`, siendo esta una función que deberá ser utilizada dentro de `gasto_vivienda`. Tiene que devolver el valor del porcentaje de gasto en la hipoteca respecto a los ingresos. (Entre 0 y 1, es decir 0.5 si es del 50%)\n",
    "5. Calcula el porcentaje de gasto en la hipoteca si el ingreso es de 1700 euros y guárdalo en la variable `res_porcentaje`.\n",
    "6. Documenta ambas funciones con el estilo de Google."
   ]
  },
  {
   "cell_type": "code",
   "execution_count": 9,
   "metadata": {},
   "outputs": [
    {
     "name": "stdout",
     "output_type": "stream",
     "text": [
      "0.0390841845925456\n"
     ]
    }
   ],
   "source": [
    "volumen = float(input(\"Introduce el volumen de la hipoteca\"))\n",
    "\n",
    "n_meses = int(input(\"A cuántos años?\")) * 12\n",
    "\n",
    "interes = float(input(\"Tipo interés anual\"))/100/12\n",
    "\n",
    "cuota = volumen * ((1 + interes) ** n_meses) * interes / (((1 + interes) ** n_meses) - 1)\n",
    "print(cuota)"
   ]
  },
  {
   "cell_type": "code",
   "execution_count": 10,
   "metadata": {},
   "outputs": [],
   "source": [
    "def calcular_hip(volumen, interes_anual, anios=30):\n",
    "    '''\n",
    "    Función que calcula la cuota mensual de una hipoteca\n",
    "    \n",
    "    Args:\n",
    "        volumen (float): El volumen total de la hipoteca en euros\n",
    "        interes_anual (float): Tasa de interés anual\n",
    "        anios (int): Número de años para liquidar la hipoteca\n",
    "    Return:\n",
    "        cuota (float): Cuota mensual para la hipoteca\n",
    "    '''\n",
    "    n_meses = anios * 12\n",
    "    interes = interes_anual / 100 / 12\n",
    "    cuota = volumen * ((1 + interes) ** n_meses) * interes / (((1 + interes) ** n_meses) - 1)\n",
    "    return cuota"
   ]
  },
  {
   "cell_type": "code",
   "execution_count": 11,
   "metadata": {},
   "outputs": [
    {
     "name": "stdout",
     "output_type": "stream",
     "text": [
      "2309.8450872583057\n"
     ]
    }
   ],
   "source": [
    "res_cuota = calcular_hip(350000,5,20)\n",
    "print(res_cuota)"
   ]
  },
  {
   "cell_type": "code",
   "execution_count": 12,
   "metadata": {},
   "outputs": [],
   "source": [
    "def gasto_vivienda(ingreso:float, lista_hip:list):\n",
    "    '''\n",
    "    Función que calcula el porcentaje de gasto de los ingresos en la hipoteca\n",
    "\n",
    "    Args:\n",
    "        ingreso (float): El ingreso mensual\n",
    "        lista_hip (list): Lista con los argumentos de volumen, interés anual y años\n",
    "\n",
    "    Return:\n",
    "        Porcentaje de la cuota mensaul respecto al ingreso\n",
    "    '''\n",
    "    cuota = calcular_hip(lista_hip[0],lista_hip[1],lista_hip[2])\n",
    "    return float(cuota / ingreso)"
   ]
  },
  {
   "cell_type": "code",
   "execution_count": 13,
   "metadata": {},
   "outputs": [
    {
     "name": "stdout",
     "output_type": "stream",
     "text": [
      "1.3587324042695916\n"
     ]
    }
   ],
   "source": [
    "res_porcentaje = gasto_vivienda(1700, [350000, 5, 20])\n",
    "print(res_porcentaje)"
   ]
  },
  {
   "attachments": {},
   "cell_type": "markdown",
   "metadata": {},
   "source": [
    "¡Has terminado!\n",
    "\n",
    "Adjunta este fichero en la tarea de examen de classroom"
   ]
  }
 ],
 "metadata": {
  "kernelspec": {
   "display_name": "Python 3",
   "language": "python",
   "name": "python3"
  },
  "language_info": {
   "codemirror_mode": {
    "name": "ipython",
    "version": 3
   },
   "file_extension": ".py",
   "mimetype": "text/x-python",
   "name": "python",
   "nbconvert_exporter": "python",
   "pygments_lexer": "ipython3",
   "version": "3.9.7"
  },
  "orig_nbformat": 4,
  "vscode": {
   "interpreter": {
    "hash": "1e989a6a87260c027f3014f78a3a3d191394072689c96a40223c8499353d25ee"
   }
  }
 },
 "nbformat": 4,
 "nbformat_minor": 2
}
