{
 "cells": [
  {
   "cell_type": "markdown",
   "metadata": {},
   "source": [
    "#### Bonus track. Mini hundir la flota\n",
    "1. Crea un tablero de 10x10 relleno del carácter espacio ( ).\n",
    "2. Posiciona un par de barcos en [(0,1), (1,1)] y [(1,3), (1,4), (1,5), (1,6)]. Los barcos serán Os mayúsculas. Como ves, un barco de dos posiciones de eslora y otro de cuatro.\n",
    "3. Recibe un disparo en uno de los barcos, sustituyendo la O por una X\n",
    "4. Recibe un disparo en agua, sustituyendo uno de los espacios por un guión: -\n",
    "5. Ignorando los disparos recibidos, ahora prueba a posicionar otro barco de 4 posiciones dentro del tablero, pero **de manera ALEATORIA.**\n",
    "\n",
    "**TIP apartado 5**: El barco tendrá una posición inicial aleatoria dentro del tablero, y una orientación también aleatoria (N,S,E,O).\n",
    "\n",
    "Por ejemplo, si tu posicion inicial fuese (5,0) y la orientación O, no podrias ponerlo porque se sale del tablero. Ahora bien, si fuese orientación este, si podrías, y ocuparía las posiciones [(5,0), (5,1), (5,2), (5,3)]. Por tanto tendrás que iterar con un bucle si es posible encajar el barco en el tablero, y el bucle terminará cuando lo consigas encajar. **Ojo con las posiciones donde ya hay barco!!!**\n",
    "\n",
    "Usa `import random` para elegir las coordenadas aleatorias."
   ]
  },
  {
   "cell_type": "code",
   "execution_count": 1,
   "metadata": {},
   "outputs": [],
   "source": [
    "import numpy as np"
   ]
  },
  {
   "cell_type": "markdown",
   "metadata": {},
   "source": [
    "## Funciones\n",
    "1. Inicializar_tablero()\n",
    "2. Colocar_barco()\n",
    "3. Disparar()\n",
    "4. Generar_b_aleatorio()"
   ]
  },
  {
   "cell_type": "markdown",
   "metadata": {},
   "source": [
    "### Parte 1"
   ]
  },
  {
   "cell_type": "code",
   "execution_count": 183,
   "metadata": {},
   "outputs": [
    {
     "name": "stdout",
     "output_type": "stream",
     "text": [
      "[[' ' ' ' ' ' ' ' ' ' ' ' ' ' ' ' ' ' ' ']\n",
      " [' ' ' ' ' ' ' ' ' ' ' ' ' ' ' ' ' ' ' ']\n",
      " [' ' ' ' ' ' ' ' ' ' ' ' ' ' ' ' ' ' ' ']\n",
      " [' ' ' ' ' ' ' ' ' ' ' ' ' ' ' ' ' ' ' ']\n",
      " [' ' ' ' ' ' ' ' ' ' ' ' ' ' ' ' ' ' ' ']\n",
      " [' ' ' ' ' ' ' ' ' ' ' ' ' ' ' ' ' ' ' ']\n",
      " [' ' ' ' ' ' ' ' ' ' ' ' ' ' ' ' ' ' ' ']\n",
      " [' ' ' ' ' ' ' ' ' ' ' ' ' ' ' ' ' ' ' ']\n",
      " [' ' ' ' ' ' ' ' ' ' ' ' ' ' ' ' ' ' ' ']\n",
      " [' ' ' ' ' ' ' ' ' ' ' ' ' ' ' ' ' ' ' ']]\n"
     ]
    }
   ],
   "source": [
    "#Crear tablero\n",
    "\n",
    "tablero = np.full((10, 10), \" \")\n",
    "print(tablero)"
   ]
  },
  {
   "cell_type": "code",
   "execution_count": null,
   "metadata": {},
   "outputs": [],
   "source": [
    "#Posicionar los barcos\n",
    "#[(0,1), (1,1)] y [(1,3), (1,4), (1,5), (1,6)]"
   ]
  },
  {
   "cell_type": "code",
   "execution_count": 137,
   "metadata": {},
   "outputs": [
    {
     "name": "stdout",
     "output_type": "stream",
     "text": [
      "[[' ' 'O' ' ' ' ' ' ' ' ' ' ' ' ' ' ' ' ']\n",
      " [' ' ' ' ' ' ' ' ' ' ' ' ' ' ' ' ' ' ' ']\n",
      " [' ' ' ' ' ' ' ' ' ' ' ' ' ' ' ' ' ' ' ']\n",
      " [' ' ' ' ' ' ' ' ' ' ' ' ' ' ' ' ' ' ' ']\n",
      " [' ' ' ' ' ' ' ' ' ' ' ' ' ' ' ' ' ' ' ']\n",
      " [' ' ' ' ' ' ' ' ' ' ' ' ' ' ' ' ' ' ' ']\n",
      " [' ' ' ' ' ' ' ' ' ' ' ' ' ' ' ' ' ' ' ']\n",
      " [' ' ' ' ' ' ' ' ' ' ' ' ' ' ' ' ' ' ' ']\n",
      " [' ' ' ' ' ' ' ' ' ' ' ' ' ' ' ' ' ' ' ']\n",
      " [' ' ' ' ' ' ' ' ' ' ' ' ' ' ' ' ' ' ' ']]\n"
     ]
    }
   ],
   "source": [
    "tablero[0, 1] = \"O\"\n",
    "print(tablero)"
   ]
  },
  {
   "cell_type": "code",
   "execution_count": 138,
   "metadata": {},
   "outputs": [
    {
     "name": "stdout",
     "output_type": "stream",
     "text": [
      "[[' ' 'O' ' ' ' ' ' ' ' ' ' ' ' ' ' ' ' ']\n",
      " [' ' 'O' ' ' ' ' ' ' ' ' ' ' ' ' ' ' ' ']\n",
      " [' ' ' ' ' ' ' ' ' ' ' ' ' ' ' ' ' ' ' ']\n",
      " [' ' ' ' ' ' ' ' ' ' ' ' ' ' ' ' ' ' ' ']\n",
      " [' ' ' ' ' ' ' ' ' ' ' ' ' ' ' ' ' ' ' ']\n",
      " [' ' ' ' ' ' ' ' ' ' ' ' ' ' ' ' ' ' ' ']\n",
      " [' ' ' ' ' ' ' ' ' ' ' ' ' ' ' ' ' ' ' ']\n",
      " [' ' ' ' ' ' ' ' ' ' ' ' ' ' ' ' ' ' ' ']\n",
      " [' ' ' ' ' ' ' ' ' ' ' ' ' ' ' ' ' ' ' ']\n",
      " [' ' ' ' ' ' ' ' ' ' ' ' ' ' ' ' ' ' ' ']]\n"
     ]
    }
   ],
   "source": [
    "barco_1 = [(0,1), (1,1)]\n",
    "for i in barco_1:\n",
    "    tablero[i] = \"O\"\n",
    "\n",
    "print(tablero)"
   ]
  },
  {
   "cell_type": "code",
   "execution_count": 184,
   "metadata": {},
   "outputs": [
    {
     "name": "stdout",
     "output_type": "stream",
     "text": [
      "[[' ' 'O' ' ' ' ' ' ' ' ' ' ' ' ' ' ' ' ']\n",
      " [' ' 'O' ' ' 'O' 'O' 'O' 'O' ' ' ' ' ' ']\n",
      " [' ' ' ' ' ' ' ' ' ' ' ' ' ' ' ' ' ' ' ']\n",
      " [' ' ' ' ' ' ' ' ' ' ' ' ' ' ' ' ' ' ' ']\n",
      " [' ' ' ' ' ' ' ' ' ' ' ' ' ' ' ' ' ' ' ']\n",
      " [' ' ' ' ' ' ' ' ' ' ' ' ' ' ' ' ' ' ' ']\n",
      " [' ' ' ' ' ' ' ' ' ' ' ' ' ' ' ' ' ' ' ']\n",
      " [' ' ' ' ' ' ' ' ' ' ' ' ' ' ' ' ' ' ' ']\n",
      " [' ' ' ' ' ' ' ' ' ' ' ' ' ' ' ' ' ' ' ']\n",
      " [' ' ' ' ' ' ' ' ' ' ' ' ' ' ' ' ' ' ' ']]\n"
     ]
    }
   ],
   "source": [
    "barco_2 = [(1,3), (1,4), (1,5), (1,6)]\n",
    "lista_barcos = [barco_1, barco_2]\n",
    "\n",
    "for i in lista_barcos:\n",
    "    for j in i:\n",
    "        tablero[j] = \"O\"\n",
    "\n",
    "print(tablero)"
   ]
  },
  {
   "cell_type": "code",
   "execution_count": 144,
   "metadata": {},
   "outputs": [
    {
     "name": "stdout",
     "output_type": "stream",
     "text": [
      "Has acertado!\n",
      "[[' ' 'O' ' ' ' ' ' ' ' ' ' ' ' ' ' ' ' ']\n",
      " [' ' 'O' ' ' 'X' 'X' 'O' 'O' ' ' ' ' ' ']\n",
      " [' ' ' ' ' ' ' ' ' ' ' ' ' ' ' ' ' ' ' ']\n",
      " [' ' ' ' ' ' ' ' ' ' ' ' ' ' ' ' ' ' ' ']\n",
      " [' ' ' ' ' ' ' ' ' ' ' ' ' ' ' ' ' ' ' ']\n",
      " [' ' ' ' ' ' ' ' ' ' ' ' ' ' ' ' ' ' ' ']\n",
      " [' ' ' ' ' ' ' ' ' ' ' ' ' ' ' ' ' ' ' ']\n",
      " [' ' ' ' ' ' ' ' ' ' ' ' ' ' ' ' ' ' ' ']\n",
      " [' ' ' ' ' ' ' ' ' ' ' ' ' ' ' ' ' ' ' ']\n",
      " [' ' ' ' ' ' ' ' ' ' ' ' ' ' ' ' ' ' ' ']]\n"
     ]
    }
   ],
   "source": [
    "#Recibe disparo\n",
    "\n",
    "coord_x = int(input('Introduzca coordenada x:'))\n",
    "coord_y = int(input('Introduzca coordenada y:'))\n",
    "\n",
    "if tablero[coord_x, coord_y] == \"O\":\n",
    "    tablero[coord_x, coord_y] = \"X\"\n",
    "    print(\"Has acertado!\")\n",
    "    print(tablero)\n",
    "\n",
    "elif tablero[coord_x, coord_y] == \" \":\n",
    "    tablero[coord_x, coord_y] = \"-\"\n",
    "    print(\"Has fallado!\")\n",
    "    print(tablero)\n",
    "    \n",
    "elif tablero[coord_x, coord_y] == \"X\":\n",
    "    print(\"Disparo previamente realizado!\")\n",
    "    print(tablero)\n",
    "\n",
    "elif tablero[coord_x, coord_y] == \"-\":\n",
    "    print(\"Disparo previamente realizado!\")\n",
    "    print(tablero)"
   ]
  },
  {
   "cell_type": "code",
   "execution_count": 198,
   "metadata": {},
   "outputs": [
    {
     "name": "stdout",
     "output_type": "stream",
     "text": [
      "7 5\n"
     ]
    }
   ],
   "source": [
    "# Posicionar barcos de manera aleatoria\n",
    "np.random.seed(4)\n",
    "coord_x_barco = np.random.randint(0, 10)\n",
    "coord_y_barco = np.random.randint(0, 10)\n",
    "\n",
    "print(coord_x_barco, coord_y_barco)"
   ]
  },
  {
   "cell_type": "code",
   "execution_count": 199,
   "metadata": {},
   "outputs": [
    {
     "name": "stdout",
     "output_type": "stream",
     "text": [
      "[[' ' ' ' ' ' ' ' ' ' ' ' ' ' ' ' ' ' ' ']\n",
      " [' ' ' ' ' ' ' ' ' ' ' ' ' ' ' ' ' ' ' ']\n",
      " [' ' ' ' ' ' ' ' ' ' ' ' ' ' ' ' ' ' ' ']\n",
      " [' ' ' ' ' ' ' ' ' ' ' ' ' ' ' ' ' ' ' ']\n",
      " [' ' ' ' ' ' ' ' ' ' ' ' ' ' ' ' ' ' ' ']\n",
      " [' ' ' ' ' ' ' ' ' ' ' ' ' ' ' ' ' ' ' ']\n",
      " [' ' ' ' ' ' ' ' ' ' ' ' ' ' ' ' ' ' ' ']\n",
      " [' ' ' ' ' ' ' ' ' ' 'O' ' ' ' ' ' ' ' ']\n",
      " [' ' ' ' ' ' ' ' ' ' ' ' ' ' ' ' ' ' ' ']\n",
      " [' ' ' ' ' ' ' ' ' ' ' ' ' ' ' ' ' ' ' ']]\n"
     ]
    }
   ],
   "source": [
    "tablero[coord_x_barco, coord_y_barco] = \"O\"\n",
    "print(tablero)"
   ]
  },
  {
   "cell_type": "code",
   "execution_count": 200,
   "metadata": {},
   "outputs": [
    {
     "data": {
      "text/plain": [
       "'E'"
      ]
     },
     "execution_count": 200,
     "metadata": {},
     "output_type": "execute_result"
    }
   ],
   "source": [
    "np.random.seed(3)\n",
    "orien = np.random.choice([\"N\", \"S\", \"E\", \"O\"])\n",
    "orien"
   ]
  },
  {
   "cell_type": "code",
   "execution_count": 201,
   "metadata": {},
   "outputs": [],
   "source": [
    "eslora = 3"
   ]
  },
  {
   "cell_type": "code",
   "execution_count": 202,
   "metadata": {},
   "outputs": [
    {
     "name": "stdout",
     "output_type": "stream",
     "text": [
      "[[' ' ' ' ' ' ' ' ' ' ' ' ' ' ' ' ' ' ' ']\n",
      " [' ' ' ' ' ' ' ' ' ' ' ' ' ' ' ' ' ' ' ']\n",
      " [' ' ' ' ' ' ' ' ' ' ' ' ' ' ' ' ' ' ' ']\n",
      " [' ' ' ' ' ' ' ' ' ' ' ' ' ' ' ' ' ' ' ']\n",
      " [' ' ' ' ' ' ' ' ' ' ' ' ' ' ' ' ' ' ' ']\n",
      " [' ' ' ' ' ' ' ' ' ' ' ' ' ' ' ' ' ' ' ']\n",
      " [' ' ' ' ' ' ' ' ' ' ' ' ' ' ' ' ' ' ' ']\n",
      " [' ' ' ' ' ' ' ' ' ' 'O' 'O' 'O' ' ' ' ']\n",
      " [' ' ' ' ' ' ' ' ' ' ' ' ' ' ' ' ' ' ' ']\n",
      " [' ' ' ' ' ' ' ' ' ' ' ' ' ' ' ' ' ' ' ']]\n"
     ]
    }
   ],
   "source": [
    "tablero[coord_x_barco, coord_y_barco: coord_y_barco + eslora] = \"O\"\n",
    "print(tablero)"
   ]
  },
  {
   "cell_type": "code",
   "execution_count": 186,
   "metadata": {},
   "outputs": [
    {
     "name": "stdout",
     "output_type": "stream",
     "text": [
      "7\n",
      "5\n"
     ]
    }
   ],
   "source": [
    "print(coord_x_barco)\n",
    "print(coord_y_barco)"
   ]
  },
  {
   "cell_type": "code",
   "execution_count": 187,
   "metadata": {},
   "outputs": [
    {
     "name": "stdout",
     "output_type": "stream",
     "text": [
      "[[' ' 'O' ' ' ' ' ' ' ' ' ' ' ' ' ' ' ' ']\n",
      " [' ' 'O' ' ' 'O' 'O' 'O' 'O' ' ' ' ' ' ']\n",
      " [' ' ' ' ' ' ' ' ' ' ' ' ' ' ' ' ' ' ' ']\n",
      " [' ' ' ' ' ' ' ' ' ' ' ' ' ' ' ' ' ' ' ']\n",
      " [' ' ' ' ' ' ' ' ' ' ' ' ' ' ' ' ' ' ' ']\n",
      " [' ' ' ' ' ' ' ' ' ' ' ' ' ' ' ' ' ' ' ']\n",
      " [' ' ' ' ' ' ' ' ' ' ' ' ' ' ' ' ' ' ' ']\n",
      " [' ' ' ' ' ' ' ' ' ' 'O' 'O' 'O' ' ' ' ']\n",
      " [' ' ' ' ' ' ' ' ' ' 'O' ' ' ' ' ' ' ' ']\n",
      " [' ' ' ' ' ' ' ' ' ' 'O' ' ' ' ' ' ' ' ']]\n"
     ]
    }
   ],
   "source": [
    "tablero[coord_x_barco, coord_y_barco: coord_y_barco + eslora] = \"O\"\n",
    "tablero[coord_x_barco:coord_x_barco + eslora, coord_y_barco] = \"O\"\n",
    "print(tablero)\n",
    "\n"
   ]
  },
  {
   "cell_type": "markdown",
   "metadata": {},
   "source": [
    "### Parte 2"
   ]
  },
  {
   "cell_type": "code",
   "execution_count": 192,
   "metadata": {},
   "outputs": [],
   "source": [
    "def init_tablero(fill, maquina_oc = False):\n",
    "\n",
    "    if maquina_oc:\n",
    "        tablero = np.full((10, 10), fill)\n",
    "    \n",
    "    else:\n",
    "        tablero = np.full((10, 10), fill)\n",
    "\n",
    "    return tablero"
   ]
  },
  {
   "cell_type": "code",
   "execution_count": 193,
   "metadata": {},
   "outputs": [
    {
     "name": "stdout",
     "output_type": "stream",
     "text": [
      "[[' ' ' ' ' ' ' ' ' ' ' ' ' ' ' ' ' ' ' ']\n",
      " [' ' ' ' ' ' ' ' ' ' ' ' ' ' ' ' ' ' ' ']\n",
      " [' ' ' ' ' ' ' ' ' ' ' ' ' ' ' ' ' ' ' ']\n",
      " [' ' ' ' ' ' ' ' ' ' ' ' ' ' ' ' ' ' ' ']\n",
      " [' ' ' ' ' ' ' ' ' ' ' ' ' ' ' ' ' ' ' ']\n",
      " [' ' ' ' ' ' ' ' ' ' ' ' ' ' ' ' ' ' ' ']\n",
      " [' ' ' ' ' ' ' ' ' ' ' ' ' ' ' ' ' ' ' ']\n",
      " [' ' ' ' ' ' ' ' ' ' ' ' ' ' ' ' ' ' ' ']\n",
      " [' ' ' ' ' ' ' ' ' ' ' ' ' ' ' ' ' ' ' ']\n",
      " [' ' ' ' ' ' ' ' ' ' ' ' ' ' ' ' ' ' ' ']]\n"
     ]
    }
   ],
   "source": [
    "tablero = init_tablero(fill= \" \")\n",
    "print(tablero)"
   ]
  },
  {
   "cell_type": "code",
   "execution_count": 194,
   "metadata": {},
   "outputs": [],
   "source": [
    "tablero_maquina = init_tablero(fill= \" \")"
   ]
  },
  {
   "cell_type": "code",
   "execution_count": 195,
   "metadata": {},
   "outputs": [],
   "source": [
    "tablero_oculto = init_tablero(fill= \"S\", maquina_oc= True)"
   ]
  },
  {
   "cell_type": "code",
   "execution_count": 196,
   "metadata": {},
   "outputs": [
    {
     "name": "stdout",
     "output_type": "stream",
     "text": [
      "[['S' 'S' 'S' 'S' 'S' 'S' 'S' 'S' 'S' 'S']\n",
      " ['S' 'S' 'S' 'S' 'S' 'S' 'S' 'S' 'S' 'S']\n",
      " ['S' 'S' 'S' 'S' 'S' 'S' 'S' 'S' 'S' 'S']\n",
      " ['S' 'S' 'S' 'S' 'S' 'S' 'S' 'S' 'S' 'S']\n",
      " ['S' 'S' 'S' 'S' 'S' 'S' 'S' 'S' 'S' 'S']\n",
      " ['S' 'S' 'S' 'S' 'S' 'S' 'S' 'S' 'S' 'S']\n",
      " ['S' 'S' 'S' 'S' 'S' 'S' 'S' 'S' 'S' 'S']\n",
      " ['S' 'S' 'S' 'S' 'S' 'S' 'S' 'S' 'S' 'S']\n",
      " ['S' 'S' 'S' 'S' 'S' 'S' 'S' 'S' 'S' 'S']\n",
      " ['S' 'S' 'S' 'S' 'S' 'S' 'S' 'S' 'S' 'S']]\n"
     ]
    }
   ],
   "source": [
    "print(tablero_oculto)"
   ]
  },
  {
   "cell_type": "code",
   "execution_count": 197,
   "metadata": {},
   "outputs": [
    {
     "data": {
      "text/plain": [
       "array([[' ', ' ', ' ', ' ', ' ', ' ', ' ', ' ', ' ', ' '],\n",
       "       [' ', ' ', ' ', ' ', ' ', ' ', ' ', ' ', ' ', ' '],\n",
       "       [' ', ' ', ' ', ' ', ' ', ' ', ' ', ' ', ' ', ' '],\n",
       "       [' ', ' ', ' ', ' ', ' ', ' ', ' ', ' ', ' ', ' '],\n",
       "       [' ', ' ', ' ', ' ', ' ', ' ', ' ', ' ', ' ', ' '],\n",
       "       [' ', ' ', ' ', ' ', ' ', ' ', ' ', ' ', ' ', ' '],\n",
       "       [' ', ' ', ' ', ' ', ' ', ' ', ' ', ' ', ' ', ' '],\n",
       "       [' ', ' ', ' ', ' ', ' ', ' ', ' ', ' ', ' ', ' '],\n",
       "       [' ', ' ', ' ', ' ', ' ', ' ', ' ', ' ', ' ', ' '],\n",
       "       [' ', ' ', ' ', ' ', ' ', ' ', ' ', ' ', ' ', ' ']], dtype='<U1')"
      ]
     },
     "execution_count": 197,
     "metadata": {},
     "output_type": "execute_result"
    }
   ],
   "source": [
    "tablero"
   ]
  },
  {
   "cell_type": "code",
   "execution_count": 210,
   "metadata": {},
   "outputs": [],
   "source": [
    "def disparo(tablero, maq = True):\n",
    "\n",
    "    if maq:\n",
    "        coord_x = int(input('Introduzca coordenada x:'))\n",
    "        coord_y = int(input('Introduzca coordenada y:'))\n",
    "\n",
    "        if tablero[coord_x, coord_y] == \"O\":\n",
    "            tablero[coord_x, coord_y] = \"X\"\n",
    "            tablero_oculto[coord_x, coord_y] = \"X\"\n",
    "            print(\"Has acertado!\")\n",
    "            print(tablero_oculto)\n",
    "\n",
    "        elif tablero[coord_x, coord_y] == \" \":\n",
    "            tablero[coord_x, coord_y] = \"-\"\n",
    "            tablero_oculto[coord_x, coord_y] = \"-\"\n",
    "            print(\"Has fallado!\")\n",
    "            print(tablero_oculto)\n",
    "            \n",
    "        elif tablero[coord_x, coord_y] == \"X\":\n",
    "            print(\"Disparo previamente realizado!\")\n",
    "            print(tablero_oculto)\n",
    "\n",
    "        elif tablero[coord_x, coord_y] == \"-\":\n",
    "            print(\"Disparo previamente realizado!\")\n",
    "            print(tablero_oculto)\n",
    "    \n",
    "    else:\n",
    "        coord_x = np.random.randint(0, 10)\n",
    "        coord_y = np.random.randint(0, 10)\n",
    "\n",
    "        if tablero[coord_x, coord_y] == \"O\":\n",
    "            tablero[coord_x, coord_y] = \"X\"\n",
    "            tablero_oculto[coord_x, coord_y] = \"X\"\n",
    "            print(\"Has acertado!\")\n",
    "            print(tablero)\n",
    "\n",
    "        elif tablero[coord_x, coord_y] == \" \":\n",
    "            tablero[coord_x, coord_y] = \"-\"\n",
    "            tablero_oculto[coord_x, coord_y] = \"-\"\n",
    "            print(\"Has fallado!\")\n",
    "            print(tablero)\n",
    "            \n",
    "        elif tablero[coord_x, coord_y] == \"X\":\n",
    "            print(\"Disparo previamente realizado!\")\n",
    "            print(tablero)\n",
    "\n",
    "        elif tablero[coord_x, coord_y] == \"-\":\n",
    "            print(\"Disparo previamente realizado!\")\n",
    "            print(tablero)"
   ]
  },
  {
   "cell_type": "code",
   "execution_count": 208,
   "metadata": {},
   "outputs": [
    {
     "name": "stdout",
     "output_type": "stream",
     "text": [
      "Has fallado!\n",
      "[['S' 'S' 'S' 'S' 'S' 'S' 'S' 'S' 'S' 'S']\n",
      " ['S' 'X' '-' 'S' 'S' 'S' 'S' 'S' 'S' 'S']\n",
      " ['S' 'S' 'S' 'S' 'S' 'S' 'S' 'S' 'S' 'S']\n",
      " ['S' 'S' 'S' 'S' '-' 'S' 'S' 'S' 'S' 'S']\n",
      " ['S' 'S' 'S' 'S' 'S' 'S' 'S' 'S' 'S' 'S']\n",
      " ['S' 'S' 'S' 'S' 'S' 'S' 'S' 'S' 'S' 'S']\n",
      " ['S' 'S' 'S' 'S' 'S' 'S' 'S' 'S' 'S' 'S']\n",
      " ['S' 'S' 'S' 'S' 'S' 'X' 'S' 'S' 'S' 'S']\n",
      " ['S' 'S' 'S' 'S' 'S' 'S' 'S' 'S' 'S' 'S']\n",
      " ['S' 'S' 'S' 'S' 'S' 'S' 'S' 'S' 'S' 'S']]\n"
     ]
    }
   ],
   "source": [
    "disparo(tablero=tablero_maquina)"
   ]
  }
 ],
 "metadata": {
  "kernelspec": {
   "display_name": "Python 3",
   "language": "python",
   "name": "python3"
  },
  "language_info": {
   "codemirror_mode": {
    "name": "ipython",
    "version": 3
   },
   "file_extension": ".py",
   "mimetype": "text/x-python",
   "name": "python",
   "nbconvert_exporter": "python",
   "pygments_lexer": "ipython3",
   "version": "3.9.7"
  },
  "orig_nbformat": 4,
  "vscode": {
   "interpreter": {
    "hash": "1e989a6a87260c027f3014f78a3a3d191394072689c96a40223c8499353d25ee"
   }
  }
 },
 "nbformat": 4,
 "nbformat_minor": 2
}
