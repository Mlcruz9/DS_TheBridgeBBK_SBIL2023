{
 "cells": [
  {
   "cell_type": "markdown",
   "id": "2be0447a-c80b-4daf-80dc-05edc5d3cc08",
   "metadata": {
    "tags": []
   },
   "source": [
    "## Web Scrapping de Film Affinity"
   ]
  },
  {
   "cell_type": "markdown",
   "id": "3827eb4d",
   "metadata": {},
   "source": [
    "Consigue un dataframe con el top películas de IMDB mediante webscrapping. Tendrás que obtener los siguientes datos de cada una: \n",
    "\n",
    "* Título\n",
    "* Año\n",
    "* Director\n",
    "* Elenco"
   ]
  },
  {
   "cell_type": "code",
   "execution_count": 1,
   "id": "a3d69d45-9d81-4485-88a5-6b19c459debe",
   "metadata": {},
   "outputs": [],
   "source": [
    "import requests\n",
    "from bs4 import BeautifulSoup\n",
    "import pandas as pd\n",
    "import time\n",
    "from selenium import webdriver\n",
    "from selenium.webdriver.support.select import Select\n",
    "from selenium.webdriver.chrome.service import Service as ChromeService\n",
    "from webdriver_manager.chrome import ChromeDriverManager"
   ]
  },
  {
   "cell_type": "code",
   "execution_count": 2,
   "id": "79ae1602",
   "metadata": {},
   "outputs": [],
   "source": [
    "driver = webdriver.Chrome(service=ChromeService(ChromeDriverManager().install()))"
   ]
  },
  {
   "cell_type": "code",
   "execution_count": 3,
   "id": "3e72df0e",
   "metadata": {},
   "outputs": [],
   "source": [
    "url = \"http://www.filmaffinity.com/es/ranking.php?rn=ranking_fa_movies\"\n",
    "\n",
    "driver.get(url)"
   ]
  },
  {
   "cell_type": "code",
   "execution_count": null,
   "id": "8cd560f5-c86e-4d4d-9086-b725b2d7f363",
   "metadata": {},
   "outputs": [],
   "source": [
    "# Si salta un error de driver, mira a ver si con esto se soluciona\n",
    "# driver.execute_script(\"window.scrollTo(0, document.body.scrollHeight);\")"
   ]
  },
  {
   "cell_type": "markdown",
   "id": "c8b649db",
   "metadata": {},
   "source": [
    "Bonus: consigue además las columnas ranking, país, rating y poster"
   ]
  },
  {
   "cell_type": "code",
   "execution_count": null,
   "id": "552035ad",
   "metadata": {},
   "outputs": [
    {
     "data": {
      "text/html": [
       "<div>\n",
       "<style scoped>\n",
       "    .dataframe tbody tr th:only-of-type {\n",
       "        vertical-align: middle;\n",
       "    }\n",
       "\n",
       "    .dataframe tbody tr th {\n",
       "        vertical-align: top;\n",
       "    }\n",
       "\n",
       "    .dataframe thead th {\n",
       "        text-align: right;\n",
       "    }\n",
       "</style>\n",
       "<table border=\"1\" class=\"dataframe\">\n",
       "  <thead>\n",
       "    <tr style=\"text-align: right;\">\n",
       "      <th></th>\n",
       "      <th>ranking</th>\n",
       "      <th>name</th>\n",
       "      <th>year</th>\n",
       "      <th>country</th>\n",
       "      <th>director</th>\n",
       "      <th>cast</th>\n",
       "      <th>rating</th>\n",
       "      <th>poster</th>\n",
       "    </tr>\n",
       "  </thead>\n",
       "  <tbody>\n",
       "    <tr>\n",
       "      <th>0</th>\n",
       "      <td>1</td>\n",
       "      <td>El padrino</td>\n",
       "      <td>1972</td>\n",
       "      <td>Estados Unidos</td>\n",
       "      <td>Francis Ford Coppola</td>\n",
       "      <td>Marlon Brando, Al Pacino, James Caan, Robert D...</td>\n",
       "      <td>9.0</td>\n",
       "      <td>https://pics.filmaffinity.com/the_godfather-48...</td>\n",
       "    </tr>\n",
       "    <tr>\n",
       "      <th>1</th>\n",
       "      <td>2</td>\n",
       "      <td>El padrino. Parte II</td>\n",
       "      <td>1974</td>\n",
       "      <td>Estados Unidos</td>\n",
       "      <td>Francis Ford Coppola</td>\n",
       "      <td>Al Pacino, Robert De Niro, Diane Keaton, Rober...</td>\n",
       "      <td>8.9</td>\n",
       "      <td>https://pics.filmaffinity.com/the_godfather_pa...</td>\n",
       "    </tr>\n",
       "    <tr>\n",
       "      <th>2</th>\n",
       "      <td>3</td>\n",
       "      <td>Doce hombres sin piedad</td>\n",
       "      <td>1957</td>\n",
       "      <td>Estados Unidos</td>\n",
       "      <td>Sidney Lumet</td>\n",
       "      <td>Henry Fonda, Lee J. Cobb, Jack Warden, E.G. Ma...</td>\n",
       "      <td>8.7</td>\n",
       "      <td>https://pics.filmaffinity.com/12_angry_men-122...</td>\n",
       "    </tr>\n",
       "    <tr>\n",
       "      <th>3</th>\n",
       "      <td>4</td>\n",
       "      <td>La lista de Schindler</td>\n",
       "      <td>1993</td>\n",
       "      <td>Estados Unidos</td>\n",
       "      <td>Steven Spielberg</td>\n",
       "      <td>Liam Neeson, Ben Kingsley, Ralph Fiennes, Caro...</td>\n",
       "      <td>8.6</td>\n",
       "      <td>https://pics.filmaffinity.com/schindler_s_list...</td>\n",
       "    </tr>\n",
       "    <tr>\n",
       "      <th>4</th>\n",
       "      <td>5</td>\n",
       "      <td>Testigo de cargo</td>\n",
       "      <td>1957</td>\n",
       "      <td>Estados Unidos</td>\n",
       "      <td>Billy Wilder</td>\n",
       "      <td>Tyrone Power, Marlene Dietrich, Charles Laught...</td>\n",
       "      <td>8.6</td>\n",
       "      <td>https://pics.filmaffinity.com/witness_for_the_...</td>\n",
       "    </tr>\n",
       "    <tr>\n",
       "      <th>...</th>\n",
       "      <td>...</td>\n",
       "      <td>...</td>\n",
       "      <td>...</td>\n",
       "      <td>...</td>\n",
       "      <td>...</td>\n",
       "      <td>...</td>\n",
       "      <td>...</td>\n",
       "      <td>...</td>\n",
       "    </tr>\n",
       "    <tr>\n",
       "      <th>265</th>\n",
       "      <td>266</td>\n",
       "      <td>Up</td>\n",
       "      <td>2009</td>\n",
       "      <td>Estados Unidos</td>\n",
       "      <td>Pete Docter, Bob Peterson</td>\n",
       "      <td>Animación</td>\n",
       "      <td>7.9</td>\n",
       "      <td>https://pics.filmaffinity.com/up-672315222-msm...</td>\n",
       "    </tr>\n",
       "    <tr>\n",
       "      <th>266</th>\n",
       "      <td>267</td>\n",
       "      <td>American Beauty</td>\n",
       "      <td>1999</td>\n",
       "      <td>Estados Unidos</td>\n",
       "      <td>Sam Mendes</td>\n",
       "      <td>Kevin Spacey, Annette Bening, Thora Birch, All...</td>\n",
       "      <td>7.9</td>\n",
       "      <td>https://pics.filmaffinity.com/american_beauty-...</td>\n",
       "    </tr>\n",
       "    <tr>\n",
       "      <th>267</th>\n",
       "      <td>268</td>\n",
       "      <td>En un lugar solitario</td>\n",
       "      <td>1950</td>\n",
       "      <td>Estados Unidos</td>\n",
       "      <td>Nicholas Ray</td>\n",
       "      <td>Humphrey Bogart, Gloria Grahame, Frank Lovejoy...</td>\n",
       "      <td>7.9</td>\n",
       "      <td>https://pics.filmaffinity.com/in_a_lonely_plac...</td>\n",
       "    </tr>\n",
       "    <tr>\n",
       "      <th>268</th>\n",
       "      <td>269</td>\n",
       "      <td>Sucedió una noche</td>\n",
       "      <td>1934</td>\n",
       "      <td>Estados Unidos</td>\n",
       "      <td>Frank Capra</td>\n",
       "      <td>Clark Gable, Claudette Colbert, Walter Connoll...</td>\n",
       "      <td>7.9</td>\n",
       "      <td>https://pics.filmaffinity.com/it_happened_one_...</td>\n",
       "    </tr>\n",
       "    <tr>\n",
       "      <th>269</th>\n",
       "      <td>270</td>\n",
       "      <td>Fanny y Alexander</td>\n",
       "      <td>1982</td>\n",
       "      <td>Suecia</td>\n",
       "      <td>Ingmar Bergman</td>\n",
       "      <td>Bertil Guve, Pernilla Allwin, Gunn Wållgren, E...</td>\n",
       "      <td>7.9</td>\n",
       "      <td>https://pics.filmaffinity.com/fanny_och_alexan...</td>\n",
       "    </tr>\n",
       "  </tbody>\n",
       "</table>\n",
       "<p>270 rows × 8 columns</p>\n",
       "</div>"
      ],
      "text/plain": [
       "     ranking                     name  year         country  \\\n",
       "0          1               El padrino  1972  Estados Unidos   \n",
       "1          2     El padrino. Parte II  1974  Estados Unidos   \n",
       "2          3  Doce hombres sin piedad  1957  Estados Unidos   \n",
       "3          4    La lista de Schindler  1993  Estados Unidos   \n",
       "4          5         Testigo de cargo  1957  Estados Unidos   \n",
       "..       ...                      ...   ...             ...   \n",
       "265      266                       Up  2009  Estados Unidos   \n",
       "266      267          American Beauty  1999  Estados Unidos   \n",
       "267      268    En un lugar solitario  1950  Estados Unidos   \n",
       "268      269        Sucedió una noche  1934  Estados Unidos   \n",
       "269      270        Fanny y Alexander  1982          Suecia   \n",
       "\n",
       "                      director  \\\n",
       "0         Francis Ford Coppola   \n",
       "1         Francis Ford Coppola   \n",
       "2                 Sidney Lumet   \n",
       "3             Steven Spielberg   \n",
       "4                 Billy Wilder   \n",
       "..                         ...   \n",
       "265  Pete Docter, Bob Peterson   \n",
       "266                 Sam Mendes   \n",
       "267               Nicholas Ray   \n",
       "268                Frank Capra   \n",
       "269             Ingmar Bergman   \n",
       "\n",
       "                                                  cast  rating  \\\n",
       "0    Marlon Brando, Al Pacino, James Caan, Robert D...     9.0   \n",
       "1    Al Pacino, Robert De Niro, Diane Keaton, Rober...     8.9   \n",
       "2    Henry Fonda, Lee J. Cobb, Jack Warden, E.G. Ma...     8.7   \n",
       "3    Liam Neeson, Ben Kingsley, Ralph Fiennes, Caro...     8.6   \n",
       "4    Tyrone Power, Marlene Dietrich, Charles Laught...     8.6   \n",
       "..                                                 ...     ...   \n",
       "265                                          Animación     7.9   \n",
       "266  Kevin Spacey, Annette Bening, Thora Birch, All...     7.9   \n",
       "267  Humphrey Bogart, Gloria Grahame, Frank Lovejoy...     7.9   \n",
       "268  Clark Gable, Claudette Colbert, Walter Connoll...     7.9   \n",
       "269  Bertil Guve, Pernilla Allwin, Gunn Wållgren, E...     7.9   \n",
       "\n",
       "                                                poster  \n",
       "0    https://pics.filmaffinity.com/the_godfather-48...  \n",
       "1    https://pics.filmaffinity.com/the_godfather_pa...  \n",
       "2    https://pics.filmaffinity.com/12_angry_men-122...  \n",
       "3    https://pics.filmaffinity.com/schindler_s_list...  \n",
       "4    https://pics.filmaffinity.com/witness_for_the_...  \n",
       "..                                                 ...  \n",
       "265  https://pics.filmaffinity.com/up-672315222-msm...  \n",
       "266  https://pics.filmaffinity.com/american_beauty-...  \n",
       "267  https://pics.filmaffinity.com/in_a_lonely_plac...  \n",
       "268  https://pics.filmaffinity.com/it_happened_one_...  \n",
       "269  https://pics.filmaffinity.com/fanny_och_alexan...  \n",
       "\n",
       "[270 rows x 8 columns]"
      ]
     },
     "execution_count": 27,
     "metadata": {},
     "output_type": "execute_result"
    }
   ],
   "source": [
    "# resultado"
   ]
  },
  {
   "cell_type": "code",
   "execution_count": null,
   "id": "d50ed865",
   "metadata": {},
   "outputs": [
    {
     "data": {
      "text/plain": [
       "'https://pics.filmaffinity.com/the_godfather-488102675-msmall.jpg'"
      ]
     },
     "execution_count": 29,
     "metadata": {},
     "output_type": "execute_result"
    }
   ],
   "source": [
    "# Ejemplo de la columna poster"
   ]
  }
 ],
 "metadata": {
  "kernelspec": {
   "display_name": "Python 3.9.13 ('core')",
   "language": "python",
   "name": "python3"
  },
  "language_info": {
   "codemirror_mode": {
    "name": "ipython",
    "version": 3
   },
   "file_extension": ".py",
   "mimetype": "text/x-python",
   "name": "python",
   "nbconvert_exporter": "python",
   "pygments_lexer": "ipython3",
   "version": "3.11.3"
  },
  "vscode": {
   "interpreter": {
    "hash": "ac008403ab077f3d4ae1d6ae27808d36d5b4b95387f5f1db2e698a5091dca269"
   }
  }
 },
 "nbformat": 4,
 "nbformat_minor": 5
}
