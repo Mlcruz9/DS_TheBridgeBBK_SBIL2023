{
 "cells": [
  {
   "cell_type": "markdown",
   "metadata": {},
   "source": [
    "### Demo Selenium"
   ]
  },
  {
   "cell_type": "code",
   "execution_count": null,
   "metadata": {},
   "outputs": [],
   "source": [
    "# !pip install beautifulsoup4\n",
    "# !pip install lxml"
   ]
  },
  {
   "cell_type": "code",
   "execution_count": null,
   "metadata": {},
   "outputs": [],
   "source": [
    "# !pip install selenium"
   ]
  },
  {
   "cell_type": "code",
   "execution_count": null,
   "metadata": {},
   "outputs": [],
   "source": [
    "#webdriver_manager"
   ]
  },
  {
   "cell_type": "code",
   "execution_count": 1,
   "metadata": {},
   "outputs": [],
   "source": [
    "from selenium import webdriver\n",
    "from selenium.webdriver.support.select import Select\n",
    "import pandas as pd "
   ]
  },
  {
   "cell_type": "markdown",
   "metadata": {},
   "source": [
    "Ejemplo 1: seleccionar un valor de un desplegable"
   ]
  },
  {
   "cell_type": "markdown",
   "metadata": {},
   "source": [
    "Lo primero que haremos será crear el driver que nos ayudará a hacer las automatizaciones según nuestro navegador: \n",
    "\n",
    "**Nota:** *esta forma de importar e integrar los drivers es para Selenium 4. Si tienes otra versión de Selenium tendrás que buscar tu propia sintaxis.* Aquí tenéis la documentación: (https://pypi.org/project/webdriver-manager/)"
   ]
  },
  {
   "cell_type": "code",
   "execution_count": 2,
   "metadata": {},
   "outputs": [
    {
     "data": {
      "text/plain": [
       "'\\nUnlike Chromium and Firefox drivers, the safaridriver is installed with the Operating System. To enable automation on Safari, \\nrun the following command from the terminal: safaridriver --enable\\n'"
      ]
     },
     "execution_count": 2,
     "metadata": {},
     "output_type": "execute_result"
    }
   ],
   "source": [
    "# creamos el driver (para chrome)\n",
    "from selenium.webdriver.chrome.service import Service as ChromeService\n",
    "from webdriver_manager.chrome import ChromeDriverManager\n",
    "\n",
    "driver = webdriver.Chrome(service=ChromeService(ChromeDriverManager().install()))\n",
    "\n",
    "\n",
    "# para firefox\n",
    "# from selenium.webdriver.firefox.service import Service as FirefoxService\n",
    "# from webdriver_manager.firefox import GeckoDriverManager\n",
    "# driver = webdriver.Firefox(service=FirefoxService(GeckoDriverManager().install()))\n",
    "\n",
    "\n",
    "\n",
    "# para safari\n",
    "'''\n",
    "Unlike Chromium and Firefox drivers, the safaridriver is installed with the Operating System. To enable automation on Safari, \n",
    "run the following command from the terminal: safaridriver --enable\n",
    "'''\n",
    "# options = webdriver.SafariOptions()\n",
    "# driver = webdriver.Safari(options=options)\n",
    "\n",
    "\n",
    "# para opera\n",
    "\n",
    "# from webdriver_manager.opera import OperaDriverManager\n",
    "# webdriver_service = service.Service(OperaDriverManager().install())\n",
    "# webdriver_service.start()\n",
    "# options = webdriver.ChromeOptions()\n",
    "# options.add_experimental_option('w3c', True)\n",
    "# driver = webdriver.Remote(webdriver_service.service_url, options=options)\n",
    "\n",
    "\n",
    "\n",
    "# para edge\n",
    "\n",
    "# from selenium.webdriver.edge.service import Service as EdgeService\n",
    "# from webdriver_manager.microsoft import EdgeChromiumDriverManager\n",
    "# driver = webdriver.Edge(service=EdgeService(EdgeChromiumDriverManager().install()))\n"
   ]
  },
  {
   "cell_type": "code",
   "execution_count": 9,
   "metadata": {},
   "outputs": [],
   "source": [
    "# Vamos a la página que nos interesa\n",
    "driver.get(\"https://www.camara.cl/transparencia/oficinasparlamentarias.aspx\")"
   ]
  },
  {
   "cell_type": "code",
   "execution_count": 12,
   "metadata": {},
   "outputs": [],
   "source": [
    "# Creamos una variable con el elemento con el que queremos interactuar\n",
    "menu_mes = driver.find_element(\"id\", \"ContentPlaceHolder1_ContentPlaceHolder1_ddlMes\")"
   ]
  },
  {
   "cell_type": "code",
   "execution_count": 13,
   "metadata": {},
   "outputs": [],
   "source": [
    "# Esta línea es solo para que vean que el robot hace las cosas que le decimos\n",
    "menu_mes.click()"
   ]
  },
  {
   "cell_type": "code",
   "execution_count": 14,
   "metadata": {},
   "outputs": [],
   "source": [
    "# Ahora, volvamos al menú que nos interesa. Primero, lo seleccionarom\n",
    "\n",
    "Select(menu_mes).select_by_visible_text(\"enero\")"
   ]
  },
  {
   "cell_type": "markdown",
   "metadata": {},
   "source": [
    "#### Después de esto hay dos opciones:\n",
    "1. Seguimos trabajando con selenium y las funciones y métodos que tiene la librería para extraer los datos que nos interesan. \n",
    "\n",
    "2. Guardamos todo el código fuente en una variable y trabajamos desde ahí con lo que ya sabemos de Beautiful Soup o con pandas si es una tabla (como aquí). \n",
    "\n",
    "Ilustraremos esta segunda opción:\n"
   ]
  },
  {
   "cell_type": "code",
   "execution_count": 15,
   "metadata": {},
   "outputs": [],
   "source": [
    "# Extremos el código fuente de la página que tenemos abierta\n",
    "\n",
    "codigo_fuente = driver.page_source"
   ]
  },
  {
   "cell_type": "code",
   "execution_count": 16,
   "metadata": {},
   "outputs": [],
   "source": [
    "# Desde este punto ya no necesitamos el driver, así que lo cerramos:\n",
    "\n",
    "driver.quit()"
   ]
  },
  {
   "cell_type": "code",
   "execution_count": 17,
   "metadata": {},
   "outputs": [],
   "source": [
    "# Y ahora seguimos trabajando con lo que ya sabemos. Por ejemplo, que para extraer una tabla usamos read_html:\n",
    "\n",
    "\n",
    "tabla_enero = pd.read_html(codigo_fuente)\n"
   ]
  },
  {
   "cell_type": "code",
   "execution_count": 18,
   "metadata": {},
   "outputs": [
    {
     "data": {
      "text/plain": [
       "[          Ciudad Región      Monto                      Diputado\n",
       " 0     Concepción   VIII    535.500  Acevedo S., María Candelaria\n",
       " 1     Concepción   VIII    774.638                 Aedo J., Eric\n",
       " 2    Antofagasta     II    870.000            Ahumada P., Yovana\n",
       " 3       Santiago     RM    480.000          Alessandri V., Jorge\n",
       " 4    Puente Alto     RM    450.000               Arce C., Mónica\n",
       " ..           ...    ...        ...                           ...\n",
       " 148         Lota   VIII    330.000               Weisse N., Flor\n",
       " 149  Los Ángeles   VIII    550.000               Weisse N., Flor\n",
       " 150     Santiago     RM  1.328.750            Winter E., Gonzalo\n",
       " 151   San Miguel     RM    530.000              Yeomans A., Gael\n",
       " 152       Temuco     IX    703.573              Ñanco V., Ericka\n",
       " \n",
       " [153 rows x 4 columns]]"
      ]
     },
     "execution_count": 18,
     "metadata": {},
     "output_type": "execute_result"
    }
   ],
   "source": [
    "tabla_enero"
   ]
  },
  {
   "cell_type": "code",
   "execution_count": null,
   "metadata": {},
   "outputs": [],
   "source": []
  }
 ],
 "metadata": {
  "kernelspec": {
   "display_name": "Python 3",
   "language": "python",
   "name": "python3"
  },
  "language_info": {
   "codemirror_mode": {
    "name": "ipython",
    "version": 3
   },
   "file_extension": ".py",
   "mimetype": "text/x-python",
   "name": "python",
   "nbconvert_exporter": "python",
   "pygments_lexer": "ipython3",
   "version": "3.9.7"
  }
 },
 "nbformat": 4,
 "nbformat_minor": 2
}
