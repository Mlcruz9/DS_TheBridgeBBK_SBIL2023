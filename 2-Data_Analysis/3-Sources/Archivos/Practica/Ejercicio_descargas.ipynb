{
 "cells": [
  {
   "cell_type": "markdown",
   "metadata": {},
   "source": [
    "## Ejercicio descargas"
   ]
  },
  {
   "cell_type": "markdown",
   "metadata": {},
   "source": [
    "Python es un lenguaje de propósito general, por lo que podemos desarrollar otros programas,\n",
    "aparte de ciencia de datos, que nos permitan montar dashboards, crear APIs o automatizar\n",
    "procesos. En este caso vas a automatizar un proceso, en el que tendrás que desarrollar un\n",
    "script que ordene todos los archivos de una carpeta, dependiendo de la extensión de los\n",
    "mismos.\n",
    "\n",
    "\n",
    "El objetivo es ordenar la típica carpeta de cajón desastre donde se nos acumulan archivos de\n",
    "todos los formatos como: imágenes, words, presentaciones, excels, ejecutables, zips, etc... Y\n",
    "que no vamos a ir viendo archivo a archivo, ordenándolos.... La solución suele ser eliminarlo\n",
    "todo. Vamos a intentar no tener que llegar a eso, ordenando los ficheros automáticamente en\n",
    "carpetas y revisar las que nos interesen. La típica carpeta donde aplicaríamos este programa es\n",
    "la de “Descargas”, donde se suelen acumular muchos archivos temporales.\n",
    "\n",
    "\n",
    "Por tanto, **el programa tiene que guardar los archivos de la carpeta “Descargas” (o cualquier\n",
    "otra donde acumules mucho archivo temporal) en los siguientes directorios dentro de la\n",
    "propia carpeta “Descargas”**:\n",
    "- Imagenes\n",
    "- Documentos\n",
    "- Software\n",
    "- Otros\n",
    "\n",
    "Cada vez que ejecutes el script, automáticamente se ordenarán todos los archivos en sus\n",
    "correspondientes carpetas.\n"
   ]
  },
  {
   "cell_type": "code",
   "execution_count": 12,
   "metadata": {},
   "outputs": [],
   "source": [
    "doc_types = ('.doc', '.docx', '.txt', '.pdf', '.xls', '.ppt', '.xlsx', '.pptx')\n",
    "img_types = ('.jpg', '.jpeg', '.png', '.svg', '.gif', '.tif', '.tiff')\n",
    "software_types = ('.exe', '.pkg', '.dmg')"
   ]
  },
  {
   "cell_type": "code",
   "execution_count": 1,
   "metadata": {},
   "outputs": [],
   "source": [
    "import os\n",
    "import shutil"
   ]
  },
  {
   "cell_type": "markdown",
   "metadata": {},
   "source": [
    "### 1. Crea un main.py con el programa principal y las funciones necesarias en funciones.py"
   ]
  },
  {
   "cell_type": "code",
   "execution_count": 3,
   "metadata": {},
   "outputs": [
    {
     "data": {
      "text/plain": [
       "'c:\\\\Users\\\\misla\\\\Documents\\\\Bootcamp\\\\DS_TheBridgeBBK_SBIL2023\\\\2-Data_Analysis\\\\3-Sources\\\\Archivos\\\\Practica'"
      ]
     },
     "execution_count": 3,
     "metadata": {},
     "output_type": "execute_result"
    }
   ],
   "source": [
    "os.getcwd()"
   ]
  },
  {
   "cell_type": "code",
   "execution_count": 8,
   "metadata": {},
   "outputs": [],
   "source": [
    "os.chdir(r'C:\\Users\\misla\\Documents\\ejercicio_descargas')"
   ]
  },
  {
   "cell_type": "code",
   "execution_count": 9,
   "metadata": {},
   "outputs": [
    {
     "data": {
      "text/plain": [
       "'C:\\\\Users\\\\misla\\\\Documents\\\\ejercicio_descargas'"
      ]
     },
     "execution_count": 9,
     "metadata": {},
     "output_type": "execute_result"
    }
   ],
   "source": [
    "os.getcwd()"
   ]
  },
  {
   "cell_type": "code",
   "execution_count": 10,
   "metadata": {},
   "outputs": [
    {
     "data": {
      "text/plain": [
       "['01 - Fundamentos del Hardware.pdf',\n",
       " '02 - Fundamentos de SSOO.pdf',\n",
       " 'app.zip',\n",
       " 'archive (1).zip',\n",
       " 'archive (2).zip',\n",
       " 'archive (3).zip',\n",
       " 'archive (4).zip',\n",
       " 'archive.zip',\n",
       " 'Blue_Origin_Demo_of_Deorbit__Descent__and_Landing_Sensors__BODDL-TP_.csv',\n",
       " 'Captura de pantalla 2023-10-12 121530.png',\n",
       " 'codigo de instalacion office 2021 (1).txt',\n",
       " 'Cronogramas The Bridge (BBK 2023).xlsx',\n",
       " 'crono_presen.png',\n",
       " 'CV_Miguel_La_Cruz.pdf',\n",
       " 'data_icon.png',\n",
       " 'DockerInstall_guide.pdf',\n",
       " 'Ejemplos_modulos_Python3',\n",
       " 'Ejemplos_modulos_Python3.zip',\n",
       " 'Embeddings.pptx',\n",
       " 'Examen_RampUp - DSSEPT.ipynb',\n",
       " 'Examen_RampUp_-_DSSEPT.ipynb',\n",
       " 'Examen_RampUp_-_DSSEPT_-_solucion (1).ipynb',\n",
       " 'Examen_RampUp_-_DSSEPT_-_solucion.ipynb',\n",
       " 'ffmpeg-tools-2022-01-01-git-d6b2357edd.zip',\n",
       " 'Folleto_PDF_Data_Science.pdf',\n",
       " 'gridshift2.zip',\n",
       " 'hola (1).pkl',\n",
       " 'hola.pkl',\n",
       " 'housing.csv',\n",
       " 'Intro_bootcamp_09_23_DS_FT.pdf',\n",
       " 'kaggle_best-model.ipynb',\n",
       " 'key424.pem',\n",
       " 'measures_csv_bi.zip',\n",
       " 'measures_csv_fq.zip',\n",
       " 'MiguelLaCruz_CV.pdf',\n",
       " 'mysql-installer-web-community-8.0.34.0.msi',\n",
       " 'mysql-workbench-community-8.0.34-winx64.msi',\n",
       " 'normalizacion_pruebas.ipynb',\n",
       " 'notebooks_cambiados_pyspark.rar',\n",
       " 'officedeploymenttool_16731-20290.exe',\n",
       " 'par-de-claves-class.pem',\n",
       " 'Presentación Eda.pptx',\n",
       " 'recuperacion (1).zip',\n",
       " 'recuperacion.zip',\n",
       " 'RegistrodeAguas - Registro de Aguas.csv',\n",
       " 'Sample - Superstore.csv',\n",
       " 'samplePoints.csv',\n",
       " 'samplePoints.xlsx',\n",
       " 'Sentiment.csv',\n",
       " 'solution.csv',\n",
       " 'TableauPublicDesktop-64bit-2023-2-2.exe',\n",
       " 'tutorias.pdf',\n",
       " 'Untitled.ipynb',\n",
       " 'URA0101GDemarcacionCantabricaOriental_ETRS89.zip',\n",
       " 'videomanifest',\n",
       " 'videomanifest (1)',\n",
       " 'videomanifest (2)',\n",
       " 'videomanifest (3)',\n",
       " 'videomanifest (4)',\n",
       " 'VideoProtectionKey',\n",
       " 'VideoProtectionKey (1)',\n",
       " 'videotranscode.m4a',\n",
       " 'videotranscode.mp4',\n",
       " 'vs_BuildTools.exe',\n",
       " 'winglpk-4.65',\n",
       " 'winglpk-4.65.zip',\n",
       " 'word_embeddings.ipynb',\n",
       " '_guia_estudiante_2_LANBIDE_FTdatascience.pptx.pdf']"
      ]
     },
     "execution_count": 10,
     "metadata": {},
     "output_type": "execute_result"
    }
   ],
   "source": [
    "os.listdir()"
   ]
  },
  {
   "cell_type": "code",
   "execution_count": 13,
   "metadata": {},
   "outputs": [],
   "source": [
    "folders = ['imagenes', 'documentos', 'software', 'otros']\n",
    "\n",
    "for i in folders:\n",
    "    if i not in os.listdir():\n",
    "        os.mkdir(i)"
   ]
  },
  {
   "cell_type": "code",
   "execution_count": null,
   "metadata": {},
   "outputs": [],
   "source": [
    "def crear_directorios():\n",
    "    for i in folders:\n",
    "        if i not in os.listdir():\n",
    "            os.mkdir(i)"
   ]
  },
  {
   "cell_type": "code",
   "execution_count": 19,
   "metadata": {},
   "outputs": [],
   "source": [
    "for i in os.listdir():\n",
    "    if i.endswith(doc_types):\n",
    "        shutil.move(i, 'documentos')\n",
    "    elif i.endswith(img_types):\n",
    "        shutil.move(i, 'imagenes')\n",
    "    elif i.endswith(software_types):\n",
    "        shutil.move(i, 'software')\n",
    "    else:\n",
    "        if not os.path.isdir(i) and not i.endswith('.py'):\n",
    "            shutil.move(i, 'otros')"
   ]
  }
 ],
 "metadata": {
  "kernelspec": {
   "display_name": "Python 3",
   "language": "python",
   "name": "python3"
  },
  "language_info": {
   "codemirror_mode": {
    "name": "ipython",
    "version": 3
   },
   "file_extension": ".py",
   "mimetype": "text/x-python",
   "name": "python",
   "nbconvert_exporter": "python",
   "pygments_lexer": "ipython3",
   "version": "3.9.7"
  },
  "orig_nbformat": 4,
  "vscode": {
   "interpreter": {
    "hash": "1e989a6a87260c027f3014f78a3a3d191394072689c96a40223c8499353d25ee"
   }
  }
 },
 "nbformat": 4,
 "nbformat_minor": 2
}
